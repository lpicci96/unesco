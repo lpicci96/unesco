{
 "cells": [
  {
   "cell_type": "markdown",
   "source": [
    "# Example usage\n",
    "\n",
    "To use `unesco_reader` in a project:"
   ],
   "metadata": {}
  },
  {
   "cell_type": "code",
   "execution_count": 1,
   "source": [
    "import unesco_reader\n",
    "\n",
    "print(unesco_reader.__version__)"
   ],
   "outputs": [
    {
     "name": "stdout",
     "output_type": "stream",
     "text": [
      "0.1.2\n"
     ]
    }
   ],
   "metadata": {}
  },
  {
   "cell_type": "markdown",
   "source": [
    "To explore UIS data import the `uis` module fomr `unesco_reader`"
   ],
   "metadata": {
    "collapsed": false
   }
  },
  {
   "cell_type": "code",
   "execution_count": 1,
   "outputs": [],
   "source": [
    "from unesco_reader import uis"
   ],
   "metadata": {
    "collapsed": false
   }
  },
  {
   "cell_type": "markdown",
   "source": [
    "Explore the available datasets and get information about a particular dataset"
   ],
   "metadata": {
    "collapsed": false
   }
  },
  {
   "cell_type": "code",
   "execution_count": 3,
   "outputs": [
    {
     "data": {
      "text/plain": "['SDG', 'OPRI', 'SCI', 'SDG11', 'DEM']"
     },
     "execution_count": 3,
     "metadata": {},
     "output_type": "execute_result"
    }
   ],
   "source": [
    "uis.available_datasets() # see available datasets - returns a list of dataset codes"
   ],
   "metadata": {
    "collapsed": false
   }
  },
  {
   "cell_type": "code",
   "execution_count": 4,
   "outputs": [
    {
     "data": {
      "text/plain": "['SDG Global and Thematic Indicators',\n 'Other Policy Relevant Indicators',\n 'Research and Development (R&D) SDG 9.5',\n 'SDG 11.4',\n 'Demographic and Socio-economic Indicators']"
     },
     "execution_count": 4,
     "metadata": {},
     "output_type": "execute_result"
    }
   ],
   "source": [
    "uis.available_datasets(as_names=True) # get the full names for available datasets"
   ],
   "metadata": {
    "collapsed": false
   }
  },
  {
   "cell_type": "code",
   "execution_count": 6,
   "outputs": [
    {
     "data": {
      "text/plain": "['SDG', 'OPRI']"
     },
     "execution_count": 6,
     "metadata": {},
     "output_type": "execute_result"
    }
   ],
   "source": [
    "uis.available_datasets(category='education')"
   ],
   "metadata": {
    "collapsed": false
   }
  },
  {
   "cell_type": "code",
   "execution_count": 8,
   "outputs": [
    {
     "name": "stdout",
     "output_type": "stream",
     "text": [
      "----------------  ----------------------------------------------------------------------------------------\n",
      "dataset_name      SDG Global and Thematic Indicators\n",
      "dataset_code      SDG\n",
      "dataset_category  education\n",
      "regional          True\n",
      "link              https://apimgmtstzgjpfeq2u763lag.blob.core.windows.net/content/MediaLibrary/bdds/SDG.zip\n",
      "----------------  ----------------------------------------------------------------------------------------\n"
     ]
    }
   ],
   "source": [
    "uis.dataset_info('SDG') #get information about the SDG dataset"
   ],
   "metadata": {
    "collapsed": false
   }
  },
  {
   "cell_type": "markdown",
   "source": [
    "To access and explore the data for a particular UIS dataset, use the `UIS` object"
   ],
   "metadata": {
    "collapsed": false
   }
  },
  {
   "cell_type": "code",
   "execution_count": 2,
   "outputs": [
    {
     "data": {
      "text/plain": "<unesco_reader.uis.UIS at 0x226c5d54a60>"
     },
     "execution_count": 2,
     "metadata": {},
     "output_type": "execute_result"
    }
   ],
   "source": [
    "# First, instantiate a `UIS` object, passing the dataset code or name that you want to explore\n",
    "# Here we are going to instantiate the `SDG` dataset\n",
    "\n",
    "sdg = uis.UIS('SDG') # you can also pass the dataset name `SDG Global and Thematic Indicators`\n",
    "sdg"
   ],
   "metadata": {
    "collapsed": false
   }
  },
  {
   "cell_type": "markdown",
   "source": [
    "You can get information about the dataset, such as dataset name, code, category, and link to download the data zipped file\n"
   ],
   "metadata": {
    "collapsed": false
   }
  },
  {
   "cell_type": "code",
   "execution_count": 15,
   "outputs": [
    {
     "data": {
      "text/plain": "'SDG'"
     },
     "execution_count": 15,
     "metadata": {},
     "output_type": "execute_result"
    }
   ],
   "source": [
    "sdg.dataset_code"
   ],
   "metadata": {
    "collapsed": false
   }
  },
  {
   "cell_type": "code",
   "execution_count": 14,
   "outputs": [
    {
     "data": {
      "text/plain": "'SDG Global and Thematic Indicators'"
     },
     "execution_count": 14,
     "metadata": {},
     "output_type": "execute_result"
    }
   ],
   "source": [
    "sdg.dataset_name"
   ],
   "metadata": {
    "collapsed": false
   }
  },
  {
   "cell_type": "code",
   "execution_count": 16,
   "outputs": [
    {
     "data": {
      "text/plain": "'education'"
     },
     "execution_count": 16,
     "metadata": {},
     "output_type": "execute_result"
    }
   ],
   "source": [
    "sdg.dataset_category"
   ],
   "metadata": {
    "collapsed": false
   }
  },
  {
   "cell_type": "code",
   "execution_count": 17,
   "outputs": [
    {
     "data": {
      "text/plain": "'https://apimgmtstzgjpfeq2u763lag.blob.core.windows.net/content/MediaLibrary/bdds/SDG.zip'"
     },
     "execution_count": 17,
     "metadata": {},
     "output_type": "execute_result"
    }
   ],
   "source": [
    "sdg.link"
   ],
   "metadata": {
    "collapsed": false
   }
  },
  {
   "cell_type": "markdown",
   "source": [
    "In order to explore the data, use the `load_data` which loads data to the object by downloading it from\n",
    "UNESCO, cleaning it, and formatting it to a pandas DataFrame.\n",
    "\n",
    "If you already downloaded the zipped file locally,\n",
    "you can pass the path to the file, and the data will be read from the local file rather than being downloaded."
   ],
   "metadata": {
    "collapsed": false
   }
  },
  {
   "cell_type": "code",
   "execution_count": 3,
   "outputs": [
    {
     "name": "stderr",
     "output_type": "stream",
     "text": [
      "INFO 2023-01-27 12:25:49,934 [uis.py:load_data:303] Data loaded for dataset: SDG\n"
     ]
    },
    {
     "data": {
      "text/plain": "<unesco_reader.uis.UIS at 0x226c5d54a60>"
     },
     "execution_count": 3,
     "metadata": {},
     "output_type": "execute_result"
    }
   ],
   "source": [
    "sdg.load_data() # optionally pass `local_path = \"path to zipped file...\"` to use a locally downloaded file"
   ],
   "metadata": {
    "collapsed": false
   }
  },
  {
   "cell_type": "markdown",
   "source": [
    "Now that the data is loaded to the object you can start exploring it!"
   ],
   "metadata": {
    "collapsed": false
   }
  },
  {
   "cell_type": "markdown",
   "source": [
    "To get general information about the dataset use the `info()` methos"
   ],
   "metadata": {
    "collapsed": false
   }
  },
  {
   "cell_type": "code",
   "execution_count": 19,
   "outputs": [
    {
     "name": "stdout",
     "output_type": "stream",
     "text": [
      "--------------------  ----------------------------------------------------------------------------------------\n",
      "dataset_name          SDG Global and Thematic Indicators\n",
      "dataset_code          SDG\n",
      "dataset_category      education\n",
      "regional              True\n",
      "link                  https://apimgmtstzgjpfeq2u763lag.blob.core.windows.net/content/MediaLibrary/bdds/SDG.zip\n",
      "available indicators  1609\n",
      "available countries   241\n",
      "time range            1950 - 2022\n",
      "available regions     179\n",
      "--------------------  ----------------------------------------------------------------------------------------\n"
     ]
    }
   ],
   "source": [
    "sdg.info()"
   ],
   "metadata": {
    "collapsed": false
   }
  },
  {
   "cell_type": "markdown",
   "source": [
    "You can take a look at the available indicators"
   ],
   "metadata": {
    "collapsed": false
   }
  },
  {
   "cell_type": "code",
   "execution_count": 4,
   "outputs": [
    {
     "data": {
      "text/plain": "['ADMI.ENDOFLOWERSEC.MAT',\n 'ADMI.ENDOFLOWERSEC.READ',\n 'ADMI.ENDOFPRIM.MAT',\n 'ADMI.ENDOFPRIM.READ',\n 'ADMI.GRADE2OR3PRIM.MAT',\n 'ADMI.GRADE2OR3PRIM.READ']"
     },
     "execution_count": 4,
     "metadata": {},
     "output_type": "execute_result"
    }
   ],
   "source": [
    "# return a list of available indicator codes\n",
    "indicators = sdg.available_indicators()\n",
    "indicators[0: 6] # these are only the first 6 indicators"
   ],
   "metadata": {
    "collapsed": false
   }
  },
  {
   "cell_type": "code",
   "execution_count": 6,
   "outputs": [
    {
     "data": {
      "text/plain": "[' Administration of a nationally-representative learning assessment at the end of lower secondary education in mathematics (number)',\n ' Administration of a nationally-representative learning assessment at the end of lower secondary education in reading (number)',\n ' Administration of a nationally-representative learning assessment at the end of primary in mathematics (number)']"
     },
     "execution_count": 6,
     "metadata": {},
     "output_type": "execute_result"
    }
   ],
   "source": [
    "# get the names of indicators\n",
    "indicator_names = sdg.available_indicators(as_names=True)\n",
    "indicator_names[0:3] # these are the first 3 indicators"
   ],
   "metadata": {
    "collapsed": false
   }
  },
  {
   "cell_type": "markdown",
   "source": [
    "You can explore the countries that are available"
   ],
   "metadata": {
    "collapsed": false
   }
  },
  {
   "cell_type": "code",
   "execution_count": 8,
   "outputs": [
    {
     "data": {
      "text/plain": "['AFG', 'ALB', 'DZA', 'ASM', 'AND', 'AGO', 'AIA', 'ATG', 'ARG', 'ARM']"
     },
     "execution_count": 8,
     "metadata": {},
     "output_type": "execute_result"
    }
   ],
   "source": [
    "# get a list of available countries\n",
    "countries = sdg.available_countries()\n",
    "countries[0:10] # these are only the first 10 countries"
   ],
   "metadata": {
    "collapsed": false
   }
  },
  {
   "cell_type": "code",
   "execution_count": 9,
   "outputs": [
    {
     "data": {
      "text/plain": "['Afghanistan', 'Albania', 'Algeria', 'American Samoa', 'Andorra', 'Angola']"
     },
     "execution_count": 9,
     "metadata": {},
     "output_type": "execute_result"
    }
   ],
   "source": [
    "# get the list of countries as country names\n",
    "country_names = sdg.available_countries(as_names=True)\n",
    "country_names[0:6]"
   ],
   "metadata": {
    "collapsed": false
   }
  },
  {
   "cell_type": "code",
   "execution_count": 10,
   "outputs": [
    {
     "data": {
      "text/plain": "['Antigua and Barbuda',\n 'Bahamas',\n 'Bahrain',\n 'Barbados',\n 'Belize',\n 'Bhutan',\n 'Botswana',\n 'Solomon Islands',\n 'Palau',\n 'Brunei Darussalam',\n 'Cabo Verde',\n 'Comoros',\n 'Cyprus',\n 'Dominica',\n 'Equatorial Guinea',\n 'Estonia',\n 'Fiji',\n 'Djibouti',\n 'Gabon',\n 'Gambia',\n 'Kiribati',\n 'Grenada',\n 'Guyana',\n 'Iceland',\n 'Jamaica',\n 'Lesotho',\n 'Maldives',\n 'Malta',\n 'Mauritius',\n 'Micronesia (Federated States of)',\n 'Montenegro',\n 'Namibia',\n 'Nauru',\n 'Vanuatu',\n 'Marshall Islands',\n 'Guinea-Bissau',\n 'Timor-Leste',\n 'Qatar',\n 'Saint Kitts and Nevis',\n 'Saint Lucia',\n 'Saint Vincent and the Grenadines',\n 'San Marino',\n 'Sao Tome and Principe',\n 'Seychelles',\n 'Suriname',\n 'Eswatini',\n 'Tonga',\n 'Tuvalu',\n 'Trinidad and Tobago',\n 'Samoa']"
     },
     "execution_count": 10,
     "metadata": {},
     "output_type": "execute_result"
    }
   ],
   "source": [
    "# You can also see which countries belong to a particular region\n",
    "# here we will see which countries belong to the World Bank's country grouping for Small States\n",
    "small_state_countries = sdg.available_countries(as_names=True, region='WB: Small states')\n",
    "small_state_countries"
   ],
   "metadata": {
    "collapsed": false
   }
  },
  {
   "cell_type": "code",
   "execution_count": 11,
   "outputs": [
    {
     "data": {
      "text/plain": "['AIMS: Asia and the Pacific',\n 'AIMS: Central Asia',\n 'AIMS: East Asia',\n 'AIMS: East Asia and the Pacific',\n 'AIMS: Pacific',\n 'AIMS: South and West Asia']"
     },
     "execution_count": 11,
     "metadata": {},
     "output_type": "execute_result"
    }
   ],
   "source": [
    "# you can also see the regions that are available.\n",
    "# Note that some datasets may not have regional data, so calling this function may raise an error explaining that regional data is not available\n",
    "regions = sdg.available_regions()\n",
    "regions[0:6] # these are only the first 6 regions"
   ],
   "metadata": {
    "collapsed": false
   }
  },
  {
   "cell_type": "markdown",
   "source": [
    "In order the get the data, use the `get_data()` method"
   ],
   "metadata": {
    "collapsed": false
   }
  },
  {
   "cell_type": "code",
   "execution_count": 13,
   "outputs": [
    {
     "name": "stdout",
     "output_type": "stream",
     "text": [
      "             INDICATOR_ID                                     INDICATOR_NAME  \\\n",
      "0  ADMI.ENDOFLOWERSEC.MAT   Administration of a nationally-representative...   \n",
      "1  ADMI.ENDOFLOWERSEC.MAT   Administration of a nationally-representative...   \n",
      "2  ADMI.ENDOFLOWERSEC.MAT   Administration of a nationally-representative...   \n",
      "3  ADMI.ENDOFLOWERSEC.MAT   Administration of a nationally-representative...   \n",
      "4  ADMI.ENDOFLOWERSEC.MAT   Administration of a nationally-representative...   \n",
      "\n",
      "  COUNTRY_ID COUNTRY_NAME  YEAR  VALUE  \n",
      "0        ABW        Aruba  2014    0.0  \n",
      "1        ABW        Aruba  2015    0.0  \n",
      "2        ABW        Aruba  2016    0.0  \n",
      "3        ABW        Aruba  2017    0.0  \n",
      "4        ABW        Aruba  2018    0.0  \n"
     ]
    }
   ],
   "source": [
    "df = sdg.get_data()\n",
    "print(df.head())"
   ],
   "metadata": {
    "collapsed": false
   }
  },
  {
   "cell_type": "code",
   "execution_count": 14,
   "outputs": [
    {
     "name": "stdout",
     "output_type": "stream",
     "text": [
      "  INDICATOR_ID                                     INDICATOR_NAME  \\\n",
      "0  AIR.1.GLAST  Gross intake ratio to the last grade of primar...   \n",
      "1  AIR.1.GLAST  Gross intake ratio to the last grade of primar...   \n",
      "2  AIR.1.GLAST  Gross intake ratio to the last grade of primar...   \n",
      "3  AIR.1.GLAST  Gross intake ratio to the last grade of primar...   \n",
      "4  AIR.1.GLAST  Gross intake ratio to the last grade of primar...   \n",
      "\n",
      "                    REGION_ID  YEAR     VALUE  \n",
      "0  AIMS: Asia and the Pacific  1970  71.41793  \n",
      "1  AIMS: Asia and the Pacific  1971  71.43174  \n",
      "2  AIMS: Asia and the Pacific  1972  71.86948  \n",
      "3  AIMS: Asia and the Pacific  1973  72.56180  \n",
      "4  AIMS: Asia and the Pacific  1974  72.72099  \n"
     ]
    }
   ],
   "source": [
    "# if you are interested in regional data, you can specify the grouping\n",
    "df = sdg.get_data(grouping='regional')\n",
    "print(df.head())"
   ],
   "metadata": {
    "collapsed": false
   }
  },
  {
   "cell_type": "code",
   "execution_count": 16,
   "outputs": [
    {
     "name": "stdout",
     "output_type": "stream",
     "text": [
      "             INDICATOR_ID COUNTRY_ID  YEAR  VALUE MAGNITUDE QUALIFIER  \\\n",
      "0  ADMI.ENDOFLOWERSEC.MAT        ABW  2014    0.0       NaN       NaN   \n",
      "1  ADMI.ENDOFLOWERSEC.MAT        ABW  2015    0.0       NaN       NaN   \n",
      "2  ADMI.ENDOFLOWERSEC.MAT        ABW  2016    0.0       NaN       NaN   \n",
      "3  ADMI.ENDOFLOWERSEC.MAT        ABW  2017    0.0       NaN       NaN   \n",
      "4  ADMI.ENDOFLOWERSEC.MAT        ABW  2018    0.0       NaN       NaN   \n",
      "\n",
      "  COUNTRY_NAME                                     INDICATOR_NAME  \\\n",
      "0        Aruba   Administration of a nationally-representative...   \n",
      "1        Aruba   Administration of a nationally-representative...   \n",
      "2        Aruba   Administration of a nationally-representative...   \n",
      "3        Aruba   Administration of a nationally-representative...   \n",
      "4        Aruba   Administration of a nationally-representative...   \n",
      "\n",
      "  Different Coverage Source Under Coverage  \n",
      "0                NaN    NaN            NaN  \n",
      "1                NaN    NaN            NaN  \n",
      "2                NaN    NaN            NaN  \n",
      "3                NaN    NaN            NaN  \n",
      "4                NaN    NaN            NaN  \n"
     ]
    }
   ],
   "source": [
    "# You can also include metadata in the outputted dataframe\n",
    "df = sdg.get_data(include_metadata=True)\n",
    "print(df.head())"
   ],
   "metadata": {
    "collapsed": false
   }
  },
  {
   "cell_type": "markdown",
   "source": [
    "Much more functionality is coming soon! If you have suggestions to improve or add to the package, please contribute by opening an issue!"
   ],
   "metadata": {
    "collapsed": false
   }
  }
 ],
 "metadata": {
  "kernelspec": {
   "display_name": "Python 3",
   "language": "python",
   "name": "python3"
  },
  "language_info": {
   "codemirror_mode": {
    "name": "ipython",
    "version": 3
   },
   "file_extension": ".py",
   "mimetype": "text/x-python",
   "name": "python",
   "nbconvert_exporter": "python",
   "pygments_lexer": "ipython3",
   "version": "3.8.5"
  }
 },
 "nbformat": 4,
 "nbformat_minor": 4
}
