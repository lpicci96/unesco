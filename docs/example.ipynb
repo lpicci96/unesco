{
 "cells": [
  {
   "cell_type": "markdown",
   "source": [
    "# Example usage\n",
    "\n",
    "To use `unesco_reader` in a project:"
   ],
   "metadata": {}
  },
  {
   "cell_type": "code",
   "execution_count": 17,
   "source": [
    "import unesco_reader\n",
    "\n",
    "print(unesco_reader.__version__)"
   ],
   "outputs": [
    {
     "name": "stdout",
     "output_type": "stream",
     "text": [
      "0.1.2\n"
     ]
    }
   ],
   "metadata": {}
  },
  {
   "cell_type": "markdown",
   "source": [
    "To explore UIS data import the `uis` module from `unesco_reader`"
   ],
   "metadata": {
    "collapsed": false
   }
  },
  {
   "cell_type": "code",
   "execution_count": 1,
   "outputs": [],
   "source": [
    "from unesco_reader import uis"
   ],
   "metadata": {
    "collapsed": false
   }
  },
  {
   "cell_type": "markdown",
   "source": [
    "Explore the available datasets and get information about a particular dataset"
   ],
   "metadata": {
    "collapsed": false
   }
  },
  {
   "cell_type": "code",
   "execution_count": 3,
   "outputs": [
    {
     "data": {
      "text/plain": "['SDG', 'OPRI', 'SCI', 'SDG11', 'DEM']"
     },
     "execution_count": 3,
     "metadata": {},
     "output_type": "execute_result"
    }
   ],
   "source": [
    "uis.available_datasets() # see available datasets - returns a list of dataset codes"
   ],
   "metadata": {
    "collapsed": false
   }
  },
  {
   "cell_type": "code",
   "execution_count": 4,
   "outputs": [
    {
     "data": {
      "text/plain": "['SDG Global and Thematic Indicators',\n 'Other Policy Relevant Indicators',\n 'Research and Development (R&D) SDG 9.5',\n 'SDG 11.4',\n 'Demographic and Socio-economic Indicators']"
     },
     "execution_count": 4,
     "metadata": {},
     "output_type": "execute_result"
    }
   ],
   "source": [
    "uis.available_datasets(as_names=True) # get the full names for available datasets"
   ],
   "metadata": {
    "collapsed": false
   }
  },
  {
   "cell_type": "code",
   "execution_count": 6,
   "outputs": [
    {
     "data": {
      "text/plain": "['SDG', 'OPRI']"
     },
     "execution_count": 6,
     "metadata": {},
     "output_type": "execute_result"
    }
   ],
   "source": [
    "uis.available_datasets(category='education')"
   ],
   "metadata": {
    "collapsed": false
   }
  },
  {
   "cell_type": "code",
   "execution_count": 2,
   "outputs": [
    {
     "name": "stdout",
     "output_type": "stream",
     "text": [
      "----------------  ----------------------------------\n",
      "dataset_name      SDG Global and Thematic Indicators\n",
      "dataset_code      SDG\n",
      "dataset_category  education\n",
      "----------------  ----------------------------------\n"
     ]
    }
   ],
   "source": [
    "uis.dataset_info('SDG') #get information about the SDG dataset"
   ],
   "metadata": {
    "collapsed": false
   }
  },
  {
   "cell_type": "markdown",
   "source": [
    "To access and explore the data for a particular UIS dataset, use the `UIS` object"
   ],
   "metadata": {
    "collapsed": false
   }
  },
  {
   "cell_type": "code",
   "execution_count": 4,
   "outputs": [
    {
     "data": {
      "text/plain": "<unesco_reader.uis.UIS at 0x167b7fa05b0>"
     },
     "execution_count": 4,
     "metadata": {},
     "output_type": "execute_result"
    }
   ],
   "source": [
    "# First, instantiate a `UIS` object, passing the dataset code or name that you want to explore\n",
    "# Here we are going to instantiate the `SDG` dataset\n",
    "\n",
    "sdg = uis.UIS('SDG') # you can also pass the dataset name `SDG Global and Thematic Indicators`\n",
    "sdg"
   ],
   "metadata": {
    "collapsed": false
   }
  },
  {
   "cell_type": "markdown",
   "source": [
    "You can get information about the dataset, such as dataset name, code, category, and link to download the data zipped file\n"
   ],
   "metadata": {
    "collapsed": false
   }
  },
  {
   "cell_type": "code",
   "execution_count": 15,
   "outputs": [
    {
     "data": {
      "text/plain": "'SDG'"
     },
     "execution_count": 15,
     "metadata": {},
     "output_type": "execute_result"
    }
   ],
   "source": [
    "sdg.dataset_code"
   ],
   "metadata": {
    "collapsed": false
   }
  },
  {
   "cell_type": "code",
   "execution_count": 14,
   "outputs": [
    {
     "data": {
      "text/plain": "'SDG Global and Thematic Indicators'"
     },
     "execution_count": 14,
     "metadata": {},
     "output_type": "execute_result"
    }
   ],
   "source": [
    "sdg.dataset_name"
   ],
   "metadata": {
    "collapsed": false
   }
  },
  {
   "cell_type": "code",
   "execution_count": 16,
   "outputs": [
    {
     "data": {
      "text/plain": "'education'"
     },
     "execution_count": 16,
     "metadata": {},
     "output_type": "execute_result"
    }
   ],
   "source": [
    "sdg.dataset_category"
   ],
   "metadata": {
    "collapsed": false
   }
  },
  {
   "cell_type": "code",
   "execution_count": 17,
   "outputs": [
    {
     "data": {
      "text/plain": "'https://apimgmtstzgjpfeq2u763lag.blob.core.windows.net/content/MediaLibrary/bdds/SDG.zip'"
     },
     "execution_count": 17,
     "metadata": {},
     "output_type": "execute_result"
    }
   ],
   "source": [
    "sdg.link"
   ],
   "metadata": {
    "collapsed": false
   }
  },
  {
   "cell_type": "markdown",
   "source": [
    "In order to explore the data, use the `load_data` which loads data to the object by downloading it from\n",
    "UNESCO, cleaning it, and formatting it to a pandas DataFrame.\n",
    "\n",
    "If you already downloaded the zipped file locally,\n",
    "you can pass the path to the file, and the data will be read from the local file rather than being downloaded."
   ],
   "metadata": {
    "collapsed": false
   }
  },
  {
   "cell_type": "code",
   "execution_count": 5,
   "outputs": [
    {
     "name": "stderr",
     "output_type": "stream",
     "text": [
      "INFO 2023-01-28 11:58:48,696 [uis.py:load_data:372] Data loaded for dataset: SDG\n"
     ]
    },
    {
     "data": {
      "text/plain": "<unesco_reader.uis.UIS at 0x167b7fa05b0>"
     },
     "execution_count": 5,
     "metadata": {},
     "output_type": "execute_result"
    }
   ],
   "source": [
    "sdg.load_data() # optionally pass `local_path = \"path to zipped file...\"` to use a locally downloaded file"
   ],
   "metadata": {
    "collapsed": false
   }
  },
  {
   "cell_type": "markdown",
   "source": [
    "Now that the data is loaded to the object you can start exploring it!"
   ],
   "metadata": {
    "collapsed": false
   }
  },
  {
   "cell_type": "markdown",
   "source": [
    "To get general information about the dataset use the `info()` methos"
   ],
   "metadata": {
    "collapsed": false
   }
  },
  {
   "cell_type": "code",
   "execution_count": 6,
   "outputs": [
    {
     "name": "stdout",
     "output_type": "stream",
     "text": [
      "--------------------  ----------------------------------\n",
      "dataset_name          SDG Global and Thematic Indicators\n",
      "dataset_code          SDG\n",
      "dataset_category      education\n",
      "available indicators  1609\n",
      "available countries   241\n",
      "time range            1950 - 2022\n",
      "available regions     179\n",
      "--------------------  ----------------------------------\n"
     ]
    }
   ],
   "source": [
    "sdg.info()"
   ],
   "metadata": {
    "collapsed": false
   }
  },
  {
   "cell_type": "markdown",
   "source": [
    "You can take a look at the available indicators"
   ],
   "metadata": {
    "collapsed": false
   }
  },
  {
   "cell_type": "code",
   "execution_count": 7,
   "outputs": [
    {
     "data": {
      "text/plain": "['ADMI.ENDOFLOWERSEC.MAT',\n 'ADMI.ENDOFLOWERSEC.READ',\n 'ADMI.ENDOFPRIM.MAT',\n 'ADMI.ENDOFPRIM.READ',\n 'ADMI.GRADE2OR3PRIM.MAT']"
     },
     "execution_count": 7,
     "metadata": {},
     "output_type": "execute_result"
    }
   ],
   "source": [
    "# return a list of available indicator codes\n",
    "indicators = sdg.available_indicators()\n",
    "indicators[0: 5] # these are only the first 6 indicators"
   ],
   "metadata": {
    "collapsed": false
   }
  },
  {
   "cell_type": "code",
   "execution_count": 8,
   "outputs": [
    {
     "data": {
      "text/plain": "[' Administration of a nationally-representative learning assessment at the end of lower secondary education in mathematics (number)',\n ' Administration of a nationally-representative learning assessment at the end of lower secondary education in reading (number)',\n ' Administration of a nationally-representative learning assessment at the end of primary in mathematics (number)',\n ' Administration of a nationally-representative learning assessment at the end of primary in reading (number)',\n ' Administration of a nationally representative learning assessment in Grade 2 or 3 in mathematics (number)']"
     },
     "execution_count": 8,
     "metadata": {},
     "output_type": "execute_result"
    }
   ],
   "source": [
    "# get the names of indicators\n",
    "indicator_names = sdg.available_indicators(as_names=True)\n",
    "indicator_names[0:5] # these are the first 5 indicators"
   ],
   "metadata": {
    "collapsed": false
   }
  },
  {
   "cell_type": "markdown",
   "source": [
    "You can explore the countries that are available"
   ],
   "metadata": {
    "collapsed": false
   }
  },
  {
   "cell_type": "code",
   "execution_count": 8,
   "outputs": [
    {
     "data": {
      "text/plain": "['AFG', 'ALB', 'DZA', 'ASM', 'AND', 'AGO', 'AIA', 'ATG', 'ARG', 'ARM']"
     },
     "execution_count": 8,
     "metadata": {},
     "output_type": "execute_result"
    }
   ],
   "source": [
    "# get a list of available countries\n",
    "countries = sdg.available_countries()\n",
    "countries[0:10] # these are only the first 10 countries"
   ],
   "metadata": {
    "collapsed": false
   }
  },
  {
   "cell_type": "code",
   "execution_count": 9,
   "outputs": [
    {
     "data": {
      "text/plain": "['Afghanistan', 'Albania', 'Algeria', 'American Samoa', 'Andorra']"
     },
     "execution_count": 9,
     "metadata": {},
     "output_type": "execute_result"
    }
   ],
   "source": [
    "# get the list of countries as country names\n",
    "country_names = sdg.available_countries(as_names=True)\n",
    "country_names[0:5]"
   ],
   "metadata": {
    "collapsed": false
   }
  },
  {
   "cell_type": "code",
   "execution_count": 11,
   "outputs": [
    {
     "data": {
      "text/plain": "['Algeria',\n 'Bahrain',\n 'Egypt',\n 'Djibouti',\n 'Iran (Islamic Republic of)',\n 'Iraq',\n 'Israel',\n 'Jordan',\n 'Kuwait',\n 'Lebanon',\n 'Libya',\n 'Malta',\n 'Morocco',\n 'Oman',\n 'Palestine',\n 'Qatar',\n 'Saudi Arabia',\n 'Syrian Arab Republic',\n 'Tunisia',\n 'United Arab Emirates',\n 'Yemen']"
     },
     "execution_count": 11,
     "metadata": {},
     "output_type": "execute_result"
    }
   ],
   "source": [
    "# You can also see which countries belong to a particular region\n",
    "# here we will see which countries belong to the World Bank's country grouping for MENA\n",
    "mena = sdg.available_countries(as_names=True, region='WB: Middle East & North Africa')\n",
    "mena"
   ],
   "metadata": {
    "collapsed": false
   }
  },
  {
   "cell_type": "code",
   "execution_count": 13,
   "outputs": [
    {
     "data": {
      "text/plain": "['AIMS: Asia and the Pacific',\n 'AIMS: Central Asia',\n 'AIMS: East Asia',\n 'AIMS: East Asia and the Pacific',\n 'AIMS: Pacific']"
     },
     "execution_count": 13,
     "metadata": {},
     "output_type": "execute_result"
    }
   ],
   "source": [
    "# you can also see the regions that are available.\n",
    "# Note that some datasets may not have regional data, so calling this function may raise an error explaining that regional data is not available\n",
    "\n",
    "# Additional functionality to explore regional grouping by source eg AIMS, WB is coming soon\n",
    "\n",
    "regions = sdg.available_regions()\n",
    "regions[0:5] # these are only the first 5 regions"
   ],
   "metadata": {
    "collapsed": false
   }
  },
  {
   "cell_type": "markdown",
   "source": [
    "In order the get the data, use the `get_data()` method"
   ],
   "metadata": {
    "collapsed": false
   }
  },
  {
   "cell_type": "code",
   "execution_count": 14,
   "outputs": [
    {
     "data": {
      "text/plain": "             INDICATOR_ID                                     INDICATOR_NAME  \\\n0  ADMI.ENDOFLOWERSEC.MAT   Administration of a nationally-representative...   \n1  ADMI.ENDOFLOWERSEC.MAT   Administration of a nationally-representative...   \n2  ADMI.ENDOFLOWERSEC.MAT   Administration of a nationally-representative...   \n3  ADMI.ENDOFLOWERSEC.MAT   Administration of a nationally-representative...   \n4  ADMI.ENDOFLOWERSEC.MAT   Administration of a nationally-representative...   \n\n  COUNTRY_ID COUNTRY_NAME  YEAR  VALUE  \n0        ABW        Aruba  2014    0.0  \n1        ABW        Aruba  2015    0.0  \n2        ABW        Aruba  2016    0.0  \n3        ABW        Aruba  2017    0.0  \n4        ABW        Aruba  2018    0.0  ",
      "text/html": "<div>\n<style scoped>\n    .dataframe tbody tr th:only-of-type {\n        vertical-align: middle;\n    }\n\n    .dataframe tbody tr th {\n        vertical-align: top;\n    }\n\n    .dataframe thead th {\n        text-align: right;\n    }\n</style>\n<table border=\"1\" class=\"dataframe\">\n  <thead>\n    <tr style=\"text-align: right;\">\n      <th></th>\n      <th>INDICATOR_ID</th>\n      <th>INDICATOR_NAME</th>\n      <th>COUNTRY_ID</th>\n      <th>COUNTRY_NAME</th>\n      <th>YEAR</th>\n      <th>VALUE</th>\n    </tr>\n  </thead>\n  <tbody>\n    <tr>\n      <th>0</th>\n      <td>ADMI.ENDOFLOWERSEC.MAT</td>\n      <td>Administration of a nationally-representative...</td>\n      <td>ABW</td>\n      <td>Aruba</td>\n      <td>2014</td>\n      <td>0.0</td>\n    </tr>\n    <tr>\n      <th>1</th>\n      <td>ADMI.ENDOFLOWERSEC.MAT</td>\n      <td>Administration of a nationally-representative...</td>\n      <td>ABW</td>\n      <td>Aruba</td>\n      <td>2015</td>\n      <td>0.0</td>\n    </tr>\n    <tr>\n      <th>2</th>\n      <td>ADMI.ENDOFLOWERSEC.MAT</td>\n      <td>Administration of a nationally-representative...</td>\n      <td>ABW</td>\n      <td>Aruba</td>\n      <td>2016</td>\n      <td>0.0</td>\n    </tr>\n    <tr>\n      <th>3</th>\n      <td>ADMI.ENDOFLOWERSEC.MAT</td>\n      <td>Administration of a nationally-representative...</td>\n      <td>ABW</td>\n      <td>Aruba</td>\n      <td>2017</td>\n      <td>0.0</td>\n    </tr>\n    <tr>\n      <th>4</th>\n      <td>ADMI.ENDOFLOWERSEC.MAT</td>\n      <td>Administration of a nationally-representative...</td>\n      <td>ABW</td>\n      <td>Aruba</td>\n      <td>2018</td>\n      <td>0.0</td>\n    </tr>\n  </tbody>\n</table>\n</div>"
     },
     "execution_count": 14,
     "metadata": {},
     "output_type": "execute_result"
    }
   ],
   "source": [
    "df = sdg.get_data()\n",
    "df.head()"
   ],
   "metadata": {
    "collapsed": false
   }
  },
  {
   "cell_type": "code",
   "execution_count": 15,
   "outputs": [
    {
     "data": {
      "text/plain": "  INDICATOR_ID                                     INDICATOR_NAME  \\\n0  AIR.1.GLAST  Gross intake ratio to the last grade of primar...   \n1  AIR.1.GLAST  Gross intake ratio to the last grade of primar...   \n2  AIR.1.GLAST  Gross intake ratio to the last grade of primar...   \n3  AIR.1.GLAST  Gross intake ratio to the last grade of primar...   \n4  AIR.1.GLAST  Gross intake ratio to the last grade of primar...   \n\n                    REGION_ID  YEAR     VALUE  \n0  AIMS: Asia and the Pacific  1970  71.41793  \n1  AIMS: Asia and the Pacific  1971  71.43174  \n2  AIMS: Asia and the Pacific  1972  71.86948  \n3  AIMS: Asia and the Pacific  1973  72.56180  \n4  AIMS: Asia and the Pacific  1974  72.72099  ",
      "text/html": "<div>\n<style scoped>\n    .dataframe tbody tr th:only-of-type {\n        vertical-align: middle;\n    }\n\n    .dataframe tbody tr th {\n        vertical-align: top;\n    }\n\n    .dataframe thead th {\n        text-align: right;\n    }\n</style>\n<table border=\"1\" class=\"dataframe\">\n  <thead>\n    <tr style=\"text-align: right;\">\n      <th></th>\n      <th>INDICATOR_ID</th>\n      <th>INDICATOR_NAME</th>\n      <th>REGION_ID</th>\n      <th>YEAR</th>\n      <th>VALUE</th>\n    </tr>\n  </thead>\n  <tbody>\n    <tr>\n      <th>0</th>\n      <td>AIR.1.GLAST</td>\n      <td>Gross intake ratio to the last grade of primar...</td>\n      <td>AIMS: Asia and the Pacific</td>\n      <td>1970</td>\n      <td>71.41793</td>\n    </tr>\n    <tr>\n      <th>1</th>\n      <td>AIR.1.GLAST</td>\n      <td>Gross intake ratio to the last grade of primar...</td>\n      <td>AIMS: Asia and the Pacific</td>\n      <td>1971</td>\n      <td>71.43174</td>\n    </tr>\n    <tr>\n      <th>2</th>\n      <td>AIR.1.GLAST</td>\n      <td>Gross intake ratio to the last grade of primar...</td>\n      <td>AIMS: Asia and the Pacific</td>\n      <td>1972</td>\n      <td>71.86948</td>\n    </tr>\n    <tr>\n      <th>3</th>\n      <td>AIR.1.GLAST</td>\n      <td>Gross intake ratio to the last grade of primar...</td>\n      <td>AIMS: Asia and the Pacific</td>\n      <td>1973</td>\n      <td>72.56180</td>\n    </tr>\n    <tr>\n      <th>4</th>\n      <td>AIR.1.GLAST</td>\n      <td>Gross intake ratio to the last grade of primar...</td>\n      <td>AIMS: Asia and the Pacific</td>\n      <td>1974</td>\n      <td>72.72099</td>\n    </tr>\n  </tbody>\n</table>\n</div>"
     },
     "execution_count": 15,
     "metadata": {},
     "output_type": "execute_result"
    }
   ],
   "source": [
    "# if you are interested in regional data, you can specify the grouping\n",
    "df = sdg.get_data(grouping='regional')\n",
    "df.head()"
   ],
   "metadata": {
    "collapsed": false
   }
  },
  {
   "cell_type": "code",
   "execution_count": 16,
   "outputs": [
    {
     "data": {
      "text/plain": "             INDICATOR_ID COUNTRY_ID  YEAR  VALUE MAGNITUDE QUALIFIER  \\\n0  ADMI.ENDOFLOWERSEC.MAT        ABW  2014    0.0       NaN       NaN   \n1  ADMI.ENDOFLOWERSEC.MAT        ABW  2015    0.0       NaN       NaN   \n2  ADMI.ENDOFLOWERSEC.MAT        ABW  2016    0.0       NaN       NaN   \n3  ADMI.ENDOFLOWERSEC.MAT        ABW  2017    0.0       NaN       NaN   \n4  ADMI.ENDOFLOWERSEC.MAT        ABW  2018    0.0       NaN       NaN   \n\n  COUNTRY_NAME                                     INDICATOR_NAME  \\\n0        Aruba   Administration of a nationally-representative...   \n1        Aruba   Administration of a nationally-representative...   \n2        Aruba   Administration of a nationally-representative...   \n3        Aruba   Administration of a nationally-representative...   \n4        Aruba   Administration of a nationally-representative...   \n\n  Different Coverage Source Under Coverage  \n0                NaN    NaN            NaN  \n1                NaN    NaN            NaN  \n2                NaN    NaN            NaN  \n3                NaN    NaN            NaN  \n4                NaN    NaN            NaN  ",
      "text/html": "<div>\n<style scoped>\n    .dataframe tbody tr th:only-of-type {\n        vertical-align: middle;\n    }\n\n    .dataframe tbody tr th {\n        vertical-align: top;\n    }\n\n    .dataframe thead th {\n        text-align: right;\n    }\n</style>\n<table border=\"1\" class=\"dataframe\">\n  <thead>\n    <tr style=\"text-align: right;\">\n      <th></th>\n      <th>INDICATOR_ID</th>\n      <th>COUNTRY_ID</th>\n      <th>YEAR</th>\n      <th>VALUE</th>\n      <th>MAGNITUDE</th>\n      <th>QUALIFIER</th>\n      <th>COUNTRY_NAME</th>\n      <th>INDICATOR_NAME</th>\n      <th>Different Coverage</th>\n      <th>Source</th>\n      <th>Under Coverage</th>\n    </tr>\n  </thead>\n  <tbody>\n    <tr>\n      <th>0</th>\n      <td>ADMI.ENDOFLOWERSEC.MAT</td>\n      <td>ABW</td>\n      <td>2014</td>\n      <td>0.0</td>\n      <td>NaN</td>\n      <td>NaN</td>\n      <td>Aruba</td>\n      <td>Administration of a nationally-representative...</td>\n      <td>NaN</td>\n      <td>NaN</td>\n      <td>NaN</td>\n    </tr>\n    <tr>\n      <th>1</th>\n      <td>ADMI.ENDOFLOWERSEC.MAT</td>\n      <td>ABW</td>\n      <td>2015</td>\n      <td>0.0</td>\n      <td>NaN</td>\n      <td>NaN</td>\n      <td>Aruba</td>\n      <td>Administration of a nationally-representative...</td>\n      <td>NaN</td>\n      <td>NaN</td>\n      <td>NaN</td>\n    </tr>\n    <tr>\n      <th>2</th>\n      <td>ADMI.ENDOFLOWERSEC.MAT</td>\n      <td>ABW</td>\n      <td>2016</td>\n      <td>0.0</td>\n      <td>NaN</td>\n      <td>NaN</td>\n      <td>Aruba</td>\n      <td>Administration of a nationally-representative...</td>\n      <td>NaN</td>\n      <td>NaN</td>\n      <td>NaN</td>\n    </tr>\n    <tr>\n      <th>3</th>\n      <td>ADMI.ENDOFLOWERSEC.MAT</td>\n      <td>ABW</td>\n      <td>2017</td>\n      <td>0.0</td>\n      <td>NaN</td>\n      <td>NaN</td>\n      <td>Aruba</td>\n      <td>Administration of a nationally-representative...</td>\n      <td>NaN</td>\n      <td>NaN</td>\n      <td>NaN</td>\n    </tr>\n    <tr>\n      <th>4</th>\n      <td>ADMI.ENDOFLOWERSEC.MAT</td>\n      <td>ABW</td>\n      <td>2018</td>\n      <td>0.0</td>\n      <td>NaN</td>\n      <td>NaN</td>\n      <td>Aruba</td>\n      <td>Administration of a nationally-representative...</td>\n      <td>NaN</td>\n      <td>NaN</td>\n      <td>NaN</td>\n    </tr>\n  </tbody>\n</table>\n</div>"
     },
     "execution_count": 16,
     "metadata": {},
     "output_type": "execute_result"
    }
   ],
   "source": [
    "# You can also include metadata in the outputted dataframe\n",
    "df = sdg.get_data(include_metadata=True)\n",
    "df.head()"
   ],
   "metadata": {
    "collapsed": false
   }
  },
  {
   "cell_type": "markdown",
   "source": [
    "Much more functionality is coming soon! If you have suggestions to improve or add to the package, please contribute by opening an issue!"
   ],
   "metadata": {
    "collapsed": false
   }
  },
  {
   "cell_type": "code",
   "execution_count": null,
   "outputs": [],
   "source": [],
   "metadata": {
    "collapsed": false
   }
  }
 ],
 "metadata": {
  "kernelspec": {
   "display_name": "Python 3",
   "language": "python",
   "name": "python3"
  },
  "language_info": {
   "codemirror_mode": {
    "name": "ipython",
    "version": 3
   },
   "file_extension": ".py",
   "mimetype": "text/x-python",
   "name": "python",
   "nbconvert_exporter": "python",
   "pygments_lexer": "ipython3",
   "version": "3.8.5"
  }
 },
 "nbformat": 4,
 "nbformat_minor": 4
}
