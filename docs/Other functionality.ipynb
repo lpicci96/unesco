{
 "cells": [
  {
   "cell_type": "markdown",
   "source": [
    "# Other functionality in unesco_reader"
   ],
   "metadata": {
    "collapsed": false
   }
  },
  {
   "cell_type": "markdown",
   "source": [
    "Other functionality exists in the `common` module. This module contains helper functions used in the main `uis` module especially to extract data, but can be used for other tasks as well"
   ],
   "metadata": {
    "collapsed": false
   }
  },
  {
   "cell_type": "markdown",
   "source": [
    "To use, import the `common` module"
   ],
   "metadata": {
    "collapsed": false
   }
  },
  {
   "cell_type": "code",
   "execution_count": 1,
   "outputs": [],
   "source": [
    "from unesco_reader import common"
   ],
   "metadata": {
    "collapsed": false
   }
  },
  {
   "cell_type": "markdown",
   "source": [
    "Merging pandas DataFrames is a common task. However, merging large dataframes can be inefficient, and it is much more efficient to use a dictionary to map a new column onto an existing dictionary. The `mapping_dict` function converts a dataframe with 2 columns into a dictionary to be used as a mapper"
   ],
   "metadata": {
    "collapsed": false
   }
  },
  {
   "cell_type": "code",
   "execution_count": 2,
   "outputs": [],
   "source": [
    "import pandas as pd\n",
    "\n",
    "map_df = df = pd.DataFrame({'Left column': ['A', 'B', 'C'], 'Right Column': [1,2,3]})"
   ],
   "metadata": {
    "collapsed": false
   }
  },
  {
   "cell_type": "code",
   "execution_count": 3,
   "outputs": [
    {
     "data": {
      "text/plain": "{'A': 1, 'B': 2, 'C': 3}"
     },
     "execution_count": 3,
     "metadata": {},
     "output_type": "execute_result"
    }
   ],
   "source": [
    "common.mapping_dict(map_df)"
   ],
   "metadata": {
    "collapsed": false
   }
  },
  {
   "cell_type": "code",
   "execution_count": 4,
   "outputs": [
    {
     "data": {
      "text/plain": "{1: 'A', 2: 'B', 3: 'C'}"
     },
     "execution_count": 4,
     "metadata": {},
     "output_type": "execute_result"
    }
   ],
   "source": [
    "# to use the right column as keys\n",
    "common.mapping_dict(map_df, 'right')"
   ],
   "metadata": {
    "collapsed": false
   }
  },
  {
   "cell_type": "markdown",
   "source": [
    "`make_request` uses the `requests` library to make a request to a url to a zipped file (such as those for UIS datasets), with the appropriate error handling."
   ],
   "metadata": {
    "collapsed": false
   }
  },
  {
   "cell_type": "code",
   "execution_count": 8,
   "outputs": [
    {
     "name": "stdout",
     "output_type": "stream",
     "text": [
      "Status: 200\n",
      "Type: application/x-zip-compressed\n"
     ]
    }
   ],
   "source": [
    "zip_url = 'https://apimgmtstzgjpfeq2u763lag.blob.core.windows.net/content/MediaLibrary/bdds/Edu-september-2022/SDG.zip' #url for SDG dataset\n",
    "\n",
    "response = common.make_request(zip_url)\n",
    "print(f\"Status: {response.status_code}\\nType: {response.headers['Content-Type']}\")"
   ],
   "metadata": {
    "collapsed": false
   }
  },
  {
   "cell_type": "markdown",
   "source": [
    "The `unzip` function reads a zipped file to a ZipFile object - either a path to a zip file stored locally or the file-like response from a url - with the appropriate error handling.\n",
    "You can use `make_request` in conjunction with `unzip` to get zipped data from a url. Note, you need the `io` library to get a file-like object from the response."
   ],
   "metadata": {
    "collapsed": false
   }
  },
  {
   "cell_type": "code",
   "execution_count": 11,
   "outputs": [
    {
     "data": {
      "text/plain": "<zipfile.ZipFile file=<_io.BytesIO object at 0x00000229FA294BD0> mode='r'>"
     },
     "execution_count": 11,
     "metadata": {},
     "output_type": "execute_result"
    }
   ],
   "source": [
    "import io #use io.BytesIO to convert the response from `make_request` to a file-like object\n",
    "\n",
    "content = response.content # get the content of the response\n",
    "zip_file = common.unzip(io.BytesIO(content))\n",
    "zip_file"
   ],
   "metadata": {
    "collapsed": false
   }
  },
  {
   "cell_type": "markdown",
   "source": [
    "The `read_csv` function reads a csv stored in the zipped file to a pandas DataFrame. e.g. to read the indicators csv file for the SDG dataset that we requested earlier"
   ],
   "metadata": {
    "collapsed": false
   }
  },
  {
   "cell_type": "code",
   "execution_count": 20,
   "outputs": [
    {
     "data": {
      "text/plain": "                   INDICATOR_ID  \\\n0        ADMI.ENDOFLOWERSEC.MAT   \n1       ADMI.ENDOFLOWERSEC.READ   \n2            ADMI.ENDOFPRIM.MAT   \n3           ADMI.ENDOFPRIM.READ   \n4        ADMI.GRADE2OR3PRIM.MAT   \n...                         ...   \n1623  YADULT.PROFINUMERACY.WPIA   \n1624           YEARS.FC.COMP.02   \n1625          YEARS.FC.COMP.1T3   \n1626           YEARS.FC.FREE.02   \n1627          YEARS.FC.FREE.1T3   \n\n                                     INDICATOR_LABEL_EN  \n0      Administration of a nationally-representative...  \n1      Administration of a nationally-representative...  \n2      Administration of a nationally-representative...  \n3      Administration of a nationally-representative...  \n4      Administration of a nationally representative...  \n...                                                 ...  \n1623  Proportion of population achieving at least a ...  \n1624  Number of years of compulsory pre-primary educ...  \n1625  Number of years of compulsory primary and seco...  \n1626  Number of years of free pre-primary education ...  \n1627  Number of years of free primary and secondary ...  \n\n[1628 rows x 2 columns]",
      "text/html": "<div>\n<style scoped>\n    .dataframe tbody tr th:only-of-type {\n        vertical-align: middle;\n    }\n\n    .dataframe tbody tr th {\n        vertical-align: top;\n    }\n\n    .dataframe thead th {\n        text-align: right;\n    }\n</style>\n<table border=\"1\" class=\"dataframe\">\n  <thead>\n    <tr style=\"text-align: right;\">\n      <th></th>\n      <th>INDICATOR_ID</th>\n      <th>INDICATOR_LABEL_EN</th>\n    </tr>\n  </thead>\n  <tbody>\n    <tr>\n      <th>0</th>\n      <td>ADMI.ENDOFLOWERSEC.MAT</td>\n      <td>Administration of a nationally-representative...</td>\n    </tr>\n    <tr>\n      <th>1</th>\n      <td>ADMI.ENDOFLOWERSEC.READ</td>\n      <td>Administration of a nationally-representative...</td>\n    </tr>\n    <tr>\n      <th>2</th>\n      <td>ADMI.ENDOFPRIM.MAT</td>\n      <td>Administration of a nationally-representative...</td>\n    </tr>\n    <tr>\n      <th>3</th>\n      <td>ADMI.ENDOFPRIM.READ</td>\n      <td>Administration of a nationally-representative...</td>\n    </tr>\n    <tr>\n      <th>4</th>\n      <td>ADMI.GRADE2OR3PRIM.MAT</td>\n      <td>Administration of a nationally representative...</td>\n    </tr>\n    <tr>\n      <th>...</th>\n      <td>...</td>\n      <td>...</td>\n    </tr>\n    <tr>\n      <th>1623</th>\n      <td>YADULT.PROFINUMERACY.WPIA</td>\n      <td>Proportion of population achieving at least a ...</td>\n    </tr>\n    <tr>\n      <th>1624</th>\n      <td>YEARS.FC.COMP.02</td>\n      <td>Number of years of compulsory pre-primary educ...</td>\n    </tr>\n    <tr>\n      <th>1625</th>\n      <td>YEARS.FC.COMP.1T3</td>\n      <td>Number of years of compulsory primary and seco...</td>\n    </tr>\n    <tr>\n      <th>1626</th>\n      <td>YEARS.FC.FREE.02</td>\n      <td>Number of years of free pre-primary education ...</td>\n    </tr>\n    <tr>\n      <th>1627</th>\n      <td>YEARS.FC.FREE.1T3</td>\n      <td>Number of years of free primary and secondary ...</td>\n    </tr>\n  </tbody>\n</table>\n<p>1628 rows × 2 columns</p>\n</div>"
     },
     "execution_count": 20,
     "metadata": {},
     "output_type": "execute_result"
    }
   ],
   "source": [
    "path_to_file = 'SDG/SDG_LABEL.csv' # path to the csv in the zipped file\n",
    "\n",
    "df = common.read_csv(zip_file, path_to_file)\n",
    "df.head()"
   ],
   "metadata": {
    "collapsed": false
   }
  }
 ],
 "metadata": {
  "kernelspec": {
   "display_name": "Python 3",
   "language": "python",
   "name": "python3"
  },
  "language_info": {
   "codemirror_mode": {
    "name": "ipython",
    "version": 2
   },
   "file_extension": ".py",
   "mimetype": "text/x-python",
   "name": "python",
   "nbconvert_exporter": "python",
   "pygments_lexer": "ipython2",
   "version": "2.7.6"
  }
 },
 "nbformat": 4,
 "nbformat_minor": 0
}
