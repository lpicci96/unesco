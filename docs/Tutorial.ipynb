{
 "cells": [
  {
   "cell_type": "markdown",
   "source": [
    "# unesco_reader tutorial\n",
    "\n",
    "`unesco_reader` can be used to extract, interact and explore UNESCO data. Current functionality is limited to UNESCO Institute of Statistics (UIS) data, that can be accessed through their [bulk download service](https://apiportal.uis.unesco.org/bdds). `unesco_reader` removes the need to manually download the data, and offers some simple tools to interact with and explore the datasets. More analytical functionality is coming soon."
   ],
   "metadata": {}
  },
  {
   "cell_type": "markdown",
   "source": [
    "To explore UIS data import the `uis` module from `unesco_reader`"
   ],
   "metadata": {
    "collapsed": false
   }
  },
  {
   "cell_type": "code",
   "execution_count": 9,
   "outputs": [],
   "source": [
    "from unesco_reader import uis"
   ],
   "metadata": {
    "collapsed": false
   }
  },
  {
   "cell_type": "markdown",
   "source": [
    "Explore the available datasets and get information about a particular dataset"
   ],
   "metadata": {
    "collapsed": false
   }
  },
  {
   "cell_type": "code",
   "execution_count": 3,
   "outputs": [
    {
     "data": {
      "text/plain": "['SDG', 'OPRI', 'SCI', 'SDG11', 'DEM']"
     },
     "execution_count": 3,
     "metadata": {},
     "output_type": "execute_result"
    }
   ],
   "source": [
    "uis.available_datasets() # see available datasets - returns a list of dataset codes"
   ],
   "metadata": {
    "collapsed": false
   }
  },
  {
   "cell_type": "code",
   "execution_count": 4,
   "outputs": [
    {
     "data": {
      "text/plain": "['SDG Global and Thematic Indicators',\n 'Other Policy Relevant Indicators',\n 'Research and Development (R&D) SDG 9.5',\n 'SDG 11.4',\n 'Demographic and Socio-economic Indicators']"
     },
     "execution_count": 4,
     "metadata": {},
     "output_type": "execute_result"
    }
   ],
   "source": [
    "uis.available_datasets(as_names=True) # get the full names for available datasets"
   ],
   "metadata": {
    "collapsed": false
   }
  },
  {
   "cell_type": "code",
   "execution_count": 6,
   "outputs": [
    {
     "data": {
      "text/plain": "['SDG', 'OPRI']"
     },
     "execution_count": 6,
     "metadata": {},
     "output_type": "execute_result"
    }
   ],
   "source": [
    "uis.available_datasets(category='education')"
   ],
   "metadata": {
    "collapsed": false
   }
  },
  {
   "cell_type": "code",
   "execution_count": 2,
   "outputs": [
    {
     "name": "stdout",
     "output_type": "stream",
     "text": [
      "----------------  ----------------------------------\n",
      "dataset_name      SDG Global and Thematic Indicators\n",
      "dataset_code      SDG\n",
      "dataset_category  education\n",
      "----------------  ----------------------------------\n"
     ]
    }
   ],
   "source": [
    "uis.dataset_info('SDG') #get information about the SDG dataset"
   ],
   "metadata": {
    "collapsed": false
   }
  },
  {
   "cell_type": "markdown",
   "source": [
    "To access and explore the data for a particular UIS dataset, use the `UIS` object"
   ],
   "metadata": {
    "collapsed": false
   }
  },
  {
   "cell_type": "code",
   "execution_count": 4,
   "outputs": [
    {
     "data": {
      "text/plain": "<unesco_reader.uis.UIS at 0x1f13e4ed3c0>"
     },
     "execution_count": 4,
     "metadata": {},
     "output_type": "execute_result"
    }
   ],
   "source": [
    "# First, instantiate a `UIS` object, passing the dataset code or name that you want to explore\n",
    "# Here we are going to instantiate the `SDG` dataset\n",
    "\n",
    "sdg = uis.UIS('SDG') # you can also pass the dataset name `SDG Global and Thematic Indicators`\n",
    "sdg"
   ],
   "metadata": {
    "collapsed": false
   }
  },
  {
   "cell_type": "markdown",
   "source": [
    "You can get information about the dataset, such as dataset name, code, category, and link to download the data zipped file\n"
   ],
   "metadata": {
    "collapsed": false
   }
  },
  {
   "cell_type": "code",
   "execution_count": 15,
   "outputs": [
    {
     "data": {
      "text/plain": "'SDG'"
     },
     "execution_count": 15,
     "metadata": {},
     "output_type": "execute_result"
    }
   ],
   "source": [
    "sdg.dataset_code"
   ],
   "metadata": {
    "collapsed": false
   }
  },
  {
   "cell_type": "code",
   "execution_count": 14,
   "outputs": [
    {
     "data": {
      "text/plain": "'SDG Global and Thematic Indicators'"
     },
     "execution_count": 14,
     "metadata": {},
     "output_type": "execute_result"
    }
   ],
   "source": [
    "sdg.dataset_name"
   ],
   "metadata": {
    "collapsed": false
   }
  },
  {
   "cell_type": "code",
   "execution_count": 16,
   "outputs": [
    {
     "data": {
      "text/plain": "'education'"
     },
     "execution_count": 16,
     "metadata": {},
     "output_type": "execute_result"
    }
   ],
   "source": [
    "sdg.dataset_category"
   ],
   "metadata": {
    "collapsed": false
   }
  },
  {
   "cell_type": "code",
   "execution_count": 17,
   "outputs": [
    {
     "data": {
      "text/plain": "'https://apimgmtstzgjpfeq2u763lag.blob.core.windows.net/content/MediaLibrary/bdds/SDG.zip'"
     },
     "execution_count": 17,
     "metadata": {},
     "output_type": "execute_result"
    }
   ],
   "source": [
    "sdg.link"
   ],
   "metadata": {
    "collapsed": false
   }
  },
  {
   "cell_type": "markdown",
   "source": [
    "In order to explore the data, use the `load_data` which loads data to the object by downloading it from\n",
    "UNESCO, cleaning it, and formatting it to a pandas DataFrame.\n",
    "\n",
    "If you already downloaded the zipped file locally,\n",
    "you can pass the path to the file, and the data will be read from the local file rather than being downloaded."
   ],
   "metadata": {
    "collapsed": false
   }
  },
  {
   "cell_type": "code",
   "execution_count": 5,
   "outputs": [
    {
     "name": "stderr",
     "output_type": "stream",
     "text": [
      "INFO 2023-01-29 14:32:11,791 [uis.py:load_data:372] Data loaded for dataset: SDG\n"
     ]
    },
    {
     "data": {
      "text/plain": "<unesco_reader.uis.UIS at 0x1f13e4ed3c0>"
     },
     "execution_count": 5,
     "metadata": {},
     "output_type": "execute_result"
    }
   ],
   "source": [
    "sdg.load_data() # optionally pass `local_path = \"path to zipped file...\"` to use a locally downloaded file"
   ],
   "metadata": {
    "collapsed": false
   }
  },
  {
   "cell_type": "markdown",
   "source": [
    "Now that the data is loaded to the object you can start exploring it!"
   ],
   "metadata": {
    "collapsed": false
   }
  },
  {
   "cell_type": "markdown",
   "source": [
    "To get general information about the dataset use the `info()` methos"
   ],
   "metadata": {
    "collapsed": false
   }
  },
  {
   "cell_type": "code",
   "execution_count": 6,
   "outputs": [
    {
     "name": "stdout",
     "output_type": "stream",
     "text": [
      "--------------------  ----------------------------------\n",
      "dataset_name          SDG Global and Thematic Indicators\n",
      "dataset_code          SDG\n",
      "dataset_category      education\n",
      "available indicators  1609\n",
      "available countries   241\n",
      "time range            1950 - 2022\n",
      "available regions     179\n",
      "--------------------  ----------------------------------\n"
     ]
    }
   ],
   "source": [
    "sdg.info()"
   ],
   "metadata": {
    "collapsed": false
   }
  },
  {
   "cell_type": "markdown",
   "source": [
    "You can take a look at the available indicators"
   ],
   "metadata": {
    "collapsed": false
   }
  },
  {
   "cell_type": "code",
   "execution_count": 7,
   "outputs": [
    {
     "data": {
      "text/plain": "['ADMI.ENDOFLOWERSEC.MAT',\n 'ADMI.ENDOFLOWERSEC.READ',\n 'ADMI.ENDOFPRIM.MAT',\n 'ADMI.ENDOFPRIM.READ',\n 'ADMI.GRADE2OR3PRIM.MAT']"
     },
     "execution_count": 7,
     "metadata": {},
     "output_type": "execute_result"
    }
   ],
   "source": [
    "# return a list of available indicator codes\n",
    "indicators = sdg.available_indicators()\n",
    "indicators[0: 5] # these are only the first 6 indicators"
   ],
   "metadata": {
    "collapsed": false
   }
  },
  {
   "cell_type": "code",
   "execution_count": 8,
   "outputs": [
    {
     "data": {
      "text/plain": "[' Administration of a nationally-representative learning assessment at the end of lower secondary education in mathematics (number)',\n ' Administration of a nationally-representative learning assessment at the end of lower secondary education in reading (number)',\n ' Administration of a nationally-representative learning assessment at the end of primary in mathematics (number)',\n ' Administration of a nationally-representative learning assessment at the end of primary in reading (number)',\n ' Administration of a nationally representative learning assessment in Grade 2 or 3 in mathematics (number)']"
     },
     "execution_count": 8,
     "metadata": {},
     "output_type": "execute_result"
    }
   ],
   "source": [
    "# get the names of indicators\n",
    "indicator_names = sdg.available_indicators(as_names=True)\n",
    "indicator_names[0:5] # these are the first 5 indicators"
   ],
   "metadata": {
    "collapsed": false
   }
  },
  {
   "cell_type": "markdown",
   "source": [
    "You can explore the countries that are available"
   ],
   "metadata": {
    "collapsed": false
   }
  },
  {
   "cell_type": "code",
   "execution_count": 8,
   "outputs": [
    {
     "data": {
      "text/plain": "['AFG', 'ALB', 'DZA', 'ASM', 'AND', 'AGO', 'AIA', 'ATG', 'ARG', 'ARM']"
     },
     "execution_count": 8,
     "metadata": {},
     "output_type": "execute_result"
    }
   ],
   "source": [
    "# get a list of available countries\n",
    "countries = sdg.available_countries()\n",
    "countries[0:10] # these are only the first 10 countries"
   ],
   "metadata": {
    "collapsed": false
   }
  },
  {
   "cell_type": "code",
   "execution_count": 9,
   "outputs": [
    {
     "data": {
      "text/plain": "['Afghanistan', 'Albania', 'Algeria', 'American Samoa', 'Andorra']"
     },
     "execution_count": 9,
     "metadata": {},
     "output_type": "execute_result"
    }
   ],
   "source": [
    "# get the list of countries as country names\n",
    "country_names = sdg.available_countries(as_names=True)\n",
    "country_names[0:5]"
   ],
   "metadata": {
    "collapsed": false
   }
  },
  {
   "cell_type": "code",
   "execution_count": 11,
   "outputs": [
    {
     "data": {
      "text/plain": "['Algeria',\n 'Bahrain',\n 'Egypt',\n 'Djibouti',\n 'Iran (Islamic Republic of)',\n 'Iraq',\n 'Israel',\n 'Jordan',\n 'Kuwait',\n 'Lebanon',\n 'Libya',\n 'Malta',\n 'Morocco',\n 'Oman',\n 'Palestine',\n 'Qatar',\n 'Saudi Arabia',\n 'Syrian Arab Republic',\n 'Tunisia',\n 'United Arab Emirates',\n 'Yemen']"
     },
     "execution_count": 11,
     "metadata": {},
     "output_type": "execute_result"
    }
   ],
   "source": [
    "# You can also see which countries belong to a particular region\n",
    "# here we will see which countries belong to the World Bank's country grouping for MENA\n",
    "mena = sdg.available_countries(as_names=True, region='WB: Middle East & North Africa')\n",
    "mena"
   ],
   "metadata": {
    "collapsed": false
   }
  },
  {
   "cell_type": "code",
   "execution_count": 13,
   "outputs": [
    {
     "data": {
      "text/plain": "['AIMS: Asia and the Pacific',\n 'AIMS: Central Asia',\n 'AIMS: East Asia',\n 'AIMS: East Asia and the Pacific',\n 'AIMS: Pacific']"
     },
     "execution_count": 13,
     "metadata": {},
     "output_type": "execute_result"
    }
   ],
   "source": [
    "# you can also see the regions that are available.\n",
    "# Note that some datasets may not have regional data, so calling this function may raise an error explaining that regional data is not available\n",
    "\n",
    "# Additional functionality to explore regional grouping by source eg AIMS, WB is coming soon\n",
    "\n",
    "regions = sdg.available_regions()\n",
    "regions[0:5] # these are only the first 5 regions"
   ],
   "metadata": {
    "collapsed": false
   }
  },
  {
   "cell_type": "markdown",
   "source": [
    "In order the get the data, use the `get_data()` method"
   ],
   "metadata": {
    "collapsed": false
   }
  },
  {
   "cell_type": "code",
   "execution_count": 6,
   "outputs": [],
   "source": [
    "df = sdg.get_data()"
   ],
   "metadata": {
    "collapsed": false
   }
  },
  {
   "cell_type": "code",
   "execution_count": 7,
   "outputs": [],
   "source": [
    "# if you are interested in regional data, you can specify the grouping\n",
    "df = sdg.get_data(grouping='regional')"
   ],
   "metadata": {
    "collapsed": false
   }
  },
  {
   "cell_type": "code",
   "execution_count": 8,
   "outputs": [],
   "source": [
    "# You can also include metadata in the outputted dataframe\n",
    "df = sdg.get_data(include_metadata=True)"
   ],
   "metadata": {
    "collapsed": false
   }
  },
  {
   "cell_type": "markdown",
   "source": [
    "Much more functionality is coming soon! If you have suggestions to improve or add to the package, please contribute by opening an issue!"
   ],
   "metadata": {
    "collapsed": false
   }
  },
  {
   "cell_type": "code",
   "execution_count": null,
   "outputs": [],
   "source": [],
   "metadata": {
    "collapsed": false
   }
  }
 ],
 "metadata": {
  "kernelspec": {
   "display_name": "Python 3",
   "language": "python",
   "name": "python3"
  },
  "language_info": {
   "codemirror_mode": {
    "name": "ipython",
    "version": 3
   },
   "file_extension": ".py",
   "mimetype": "text/x-python",
   "name": "python",
   "nbconvert_exporter": "python",
   "pygments_lexer": "ipython3",
   "version": "3.8.5"
  }
 },
 "nbformat": 4,
 "nbformat_minor": 4
}
