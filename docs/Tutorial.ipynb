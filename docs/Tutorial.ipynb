{
 "cells": [
  {
   "cell_type": "markdown",
   "source": [
    "# unesco_reader tutorial\n",
    "\n",
    "Pythonic access to UNESCO data\n",
    "\n",
    "`unesco_reader` is a Python package providing a simple interface to access UNESCO Institute of Statistics (UIS)\n",
    "data. UIS currently does not offer API access to its data. Users must download zipped files and extract the data.\n",
    "This process requires several manual steps explained in their [python tutorial](https://apiportal.uis.unesco.org/bdds-tutorial). This package simplifies the process by providing a simple\n",
    "interface to access, explore, and analyze the data, using pandas DataFrames. This package also\n",
    "allows users to view dataset documentation and other information such as the latest update date for, and all\n",
    "available datasets from UIS."
   ],
   "metadata": {}
  },
  {
   "cell_type": "markdown",
   "source": [
    "### Basic Usage"
   ],
   "metadata": {
    "collapsed": false
   }
  },
  {
   "cell_type": "markdown",
   "source": [
    "Start by installing and importing `unesco_reader`"
   ],
   "metadata": {
    "collapsed": false
   }
  },
  {
   "cell_type": "code",
   "source": [
    "!pip install unesco-reader > /dev/null"
   ],
   "metadata": {
    "collapsed": false,
    "ExecuteTime": {
     "end_time": "2024-04-08T10:08:38.412009Z",
     "start_time": "2024-04-08T10:08:37.632404Z"
    }
   },
   "execution_count": 27,
   "outputs": []
  },
  {
   "cell_type": "code",
   "execution_count": 22,
   "source": [
    "import unesco_reader as uis"
   ],
   "metadata": {
    "collapsed": false,
    "ExecuteTime": {
     "end_time": "2024-04-08T10:00:13.689128Z",
     "start_time": "2024-04-08T10:00:13.685872Z"
    }
   },
   "outputs": []
  },
  {
   "cell_type": "markdown",
   "source": [
    "Retrieve information about all the available datasets from UIS."
   ],
   "metadata": {
    "collapsed": false
   }
  },
  {
   "cell_type": "code",
   "execution_count": 2,
   "source": [
    "uis.info()"
   ],
   "metadata": {
    "collapsed": false,
    "ExecuteTime": {
     "end_time": "2024-04-08T09:43:36.557870Z",
     "start_time": "2024-04-08T09:43:36.017884Z"
    }
   },
   "outputs": []
  },
  {
   "cell_type": "markdown",
   "source": [
    "Retrieve a list of all available datasets from UIS."
   ],
   "metadata": {
    "collapsed": false
   }
  },
  {
   "cell_type": "code",
   "execution_count": 3,
   "source": [
    "uis.available_datasets()"
   ],
   "metadata": {
    "collapsed": false,
    "ExecuteTime": {
     "end_time": "2024-04-08T09:43:36.951872Z",
     "start_time": "2024-04-08T09:43:36.559319Z"
    }
   },
   "outputs": []
  },
  {
   "cell_type": "markdown",
   "source": [
    "Optionally you can specify a theme to filter the datasets."
   ],
   "metadata": {
    "collapsed": false
   }
  },
  {
   "cell_type": "code",
   "source": [
    "uis.available_datasets(theme='Education')"
   ],
   "metadata": {
    "collapsed": false,
    "ExecuteTime": {
     "end_time": "2024-04-08T09:43:36.956253Z",
     "start_time": "2024-04-08T09:43:36.952770Z"
    }
   },
   "execution_count": 4,
   "outputs": []
  },
  {
   "cell_type": "markdown",
   "source": [
    "To access data for a particular dataset, use the `UIS` class passing the name of the dataset. \n",
    "A `UIS` object allows a user to easily access, explore, and analyse the data.\n",
    "On instantiation, the data will be extracted from the UIS website, or if it has already been \n",
    "extracted, it will be read from the cache (more on caching below)"
   ],
   "metadata": {
    "collapsed": false
   }
  },
  {
   "cell_type": "code",
   "execution_count": 5,
   "source": [
    "sdg = uis.UIS(\"SDG Global and Thematic Indicators\")\n",
    "sdg"
   ],
   "metadata": {
    "collapsed": false,
    "ExecuteTime": {
     "end_time": "2024-04-08T09:43:42.381396Z",
     "start_time": "2024-04-08T09:43:36.958265Z"
    }
   },
   "outputs": []
  },
  {
   "cell_type": "markdown",
   "source": [
    "Basic information about the dataset can be accessed using the `info` method."
   ],
   "metadata": {
    "collapsed": false
   }
  },
  {
   "cell_type": "code",
   "execution_count": 6,
   "source": [
    "sdg.info()"
   ],
   "metadata": {
    "collapsed": false,
    "ExecuteTime": {
     "end_time": "2024-04-08T09:43:42.384789Z",
     "start_time": "2024-04-08T09:43:42.382201Z"
    }
   },
   "outputs": []
  },
  {
   "cell_type": "markdown",
   "source": [
    "Information is also accessible through the attributes of the object."
   ],
   "metadata": {
    "collapsed": false
   }
  },
  {
   "cell_type": "code",
   "execution_count": 7,
   "source": [
    "name = sdg.name\n",
    "update = sdg.latest_update\n",
    "theme = sdg.theme\n",
    "\n",
    "print(f\"Name: {name}\\nUpdate: {update}\\nTheme: {theme}\")"
   ],
   "metadata": {
    "collapsed": false,
    "ExecuteTime": {
     "end_time": "2024-04-08T09:43:42.388088Z",
     "start_time": "2024-04-08T09:43:42.385516Z"
    }
   },
   "outputs": []
  },
  {
   "cell_type": "markdown",
   "source": [
    "The `readme` attribute contains the dataset documentation. To display the documentation, use the `display_readme` method."
   ],
   "metadata": {
    "collapsed": false
   }
  },
  {
   "cell_type": "code",
   "source": [
    "sdg.display_readme()"
   ],
   "metadata": {
    "collapsed": false,
    "ExecuteTime": {
     "end_time": "2024-04-08T09:43:42.390704Z",
     "start_time": "2024-04-08T09:43:42.388680Z"
    }
   },
   "execution_count": 8,
   "outputs": []
  },
  {
   "cell_type": "markdown",
   "source": [
    "Various methods exist to access the data.\n",
    "To access country data:"
   ],
   "metadata": {
    "collapsed": false
   }
  },
  {
   "cell_type": "code",
   "execution_count": 9,
   "source": [
    "sdg.get_country_data()"
   ],
   "metadata": {
    "collapsed": false,
    "ExecuteTime": {
     "end_time": "2024-04-08T09:43:42.446549Z",
     "start_time": "2024-04-08T09:43:42.391570Z"
    }
   },
   "outputs": []
  },
  {
   "cell_type": "markdown",
   "source": [
    "This will return a pandas DataFrame with the country data, in a structured and expected format.\n",
    "By default the dataframe will not contain metadata. To include metadata in the output, set the `metadata` parameter to `True`.\n",
    "Countries may also be filtered for a specific region by specifying the region's ID in the `region` parameter.\n",
    "To see available regions use the `get_regions` method."
   ],
   "metadata": {
    "collapsed": false
   }
  },
  {
   "cell_type": "code",
   "source": [
    "sdg.get_country_data(include_metadata=True, region='WB: World')"
   ],
   "metadata": {
    "collapsed": false,
    "ExecuteTime": {
     "end_time": "2024-04-08T09:43:42.682218Z",
     "start_time": "2024-04-08T09:43:42.447492Z"
    }
   },
   "execution_count": 10,
   "outputs": []
  },
  {
   "cell_type": "markdown",
   "source": [
    "Metadata, available countries, available regions, and variables are also accessible through class objects.\n"
   ],
   "metadata": {
    "collapsed": false
   }
  },
  {
   "cell_type": "code",
   "execution_count": 11,
   "source": [
    "sdg.get_metadata() # metadata"
   ],
   "metadata": {
    "collapsed": false,
    "ExecuteTime": {
     "end_time": "2024-04-08T09:43:42.688997Z",
     "start_time": "2024-04-08T09:43:42.683166Z"
    }
   },
   "outputs": []
  },
  {
   "cell_type": "code",
   "execution_count": 12,
   "source": [
    "sdg.get_countries() # available countries"
   ],
   "metadata": {
    "collapsed": false,
    "ExecuteTime": {
     "end_time": "2024-04-08T09:43:42.694362Z",
     "start_time": "2024-04-08T09:43:42.689775Z"
    }
   },
   "outputs": []
  },
  {
   "cell_type": "code",
   "execution_count": 13,
   "source": [
    "sdg.get_regions() # available regions"
   ],
   "metadata": {
    "collapsed": false,
    "ExecuteTime": {
     "end_time": "2024-04-08T09:43:42.699910Z",
     "start_time": "2024-04-08T09:43:42.695315Z"
    }
   },
   "outputs": []
  },
  {
   "cell_type": "code",
   "execution_count": 14,
   "source": [
    "sdg.get_variables() # available variables"
   ],
   "metadata": {
    "collapsed": false,
    "ExecuteTime": {
     "end_time": "2024-04-08T09:43:42.707285Z",
     "start_time": "2024-04-08T09:43:42.702741Z"
    }
   },
   "outputs": []
  },
  {
   "cell_type": "markdown",
   "source": [
    "To refresh the data and extract the latest data from the UIS website, use the `refresh_data` method."
   ],
   "metadata": {
    "collapsed": false
   }
  },
  {
   "cell_type": "code",
   "source": [
    "sdg.refresh()"
   ],
   "metadata": {
    "collapsed": false,
    "ExecuteTime": {
     "end_time": "2024-04-08T09:43:47.893872Z",
     "start_time": "2024-04-08T09:43:42.708258Z"
    }
   },
   "execution_count": 15,
   "outputs": []
  },
  {
   "cell_type": "markdown",
   "source": [
    "### Caching\n",
    "\n",
    "Caching is used to prevent unnecessary requests to the UIS website and enhance performance.\n",
    "To refresh data returned by functions, use the `refresh` parameter."
   ],
   "metadata": {
    "collapsed": false
   }
  },
  {
   "cell_type": "code",
   "source": [
    "uis.info(refresh=True)"
   ],
   "metadata": {
    "collapsed": false,
    "ExecuteTime": {
     "end_time": "2024-04-08T09:43:47.897441Z",
     "start_time": "2024-04-08T09:43:47.894621Z"
    }
   },
   "execution_count": 16,
   "outputs": []
  },
  {
   "cell_type": "code",
   "source": [
    "uis.available_datasets(refresh=True)"
   ],
   "metadata": {
    "collapsed": false,
    "ExecuteTime": {
     "end_time": "2024-04-08T09:43:47.901332Z",
     "start_time": "2024-04-08T09:43:47.898174Z"
    }
   },
   "execution_count": 17,
   "outputs": []
  },
  {
   "cell_type": "markdown",
   "source": [
    "`refresh=True` will clear the cache and force extraction of the data and information from the UIS website.\n",
    "\n",
    "For the `UIS` class, the `refresh_data` method will clear the cache and extract the latest data from the UIS website."
   ],
   "metadata": {
    "collapsed": false
   }
  },
  {
   "cell_type": "code",
   "source": [
    "sdg.refresh()"
   ],
   "metadata": {
    "collapsed": false,
    "ExecuteTime": {
     "end_time": "2024-04-08T09:43:47.904767Z",
     "start_time": "2024-04-08T09:43:47.901966Z"
    }
   },
   "execution_count": 18,
   "outputs": []
  },
  {
   "cell_type": "markdown",
   "source": [
    "To clear all cached data, use the `clear_all_caches` method."
   ],
   "metadata": {
    "collapsed": false
   }
  },
  {
   "cell_type": "code",
   "source": [
    "uis.clear_all_caches()"
   ],
   "metadata": {
    "collapsed": false,
    "ExecuteTime": {
     "end_time": "2024-04-08T09:43:47.907666Z",
     "start_time": "2024-04-08T09:43:47.905406Z"
    }
   },
   "execution_count": 19,
   "outputs": []
  },
  {
   "cell_type": "code",
   "source": [],
   "metadata": {
    "collapsed": false,
    "ExecuteTime": {
     "end_time": "2024-04-08T09:43:47.909809Z",
     "start_time": "2024-04-08T09:43:47.908317Z"
    }
   },
   "execution_count": 19,
   "outputs": []
  }
 ],
 "metadata": {
  "kernelspec": {
   "display_name": "Python 3",
   "language": "python",
   "name": "python3"
  },
  "language_info": {
   "codemirror_mode": {
    "name": "ipython",
    "version": 3
   },
   "file_extension": ".py",
   "mimetype": "text/x-python",
   "name": "python",
   "nbconvert_exporter": "python",
   "pygments_lexer": "ipython3",
   "version": "3.8.5"
  }
 },
 "nbformat": 4,
 "nbformat_minor": 4
}
