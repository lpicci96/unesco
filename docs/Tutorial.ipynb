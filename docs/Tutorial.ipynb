{
 "cells": [
  {
   "cell_type": "markdown",
   "source": [
    "# unesco_reader tutorial\n",
    "\n",
    "Pythonic access to UNESCO data\n",
    "\n",
    "`unesco_reader` is a Python package providing a simple interface to access UNESCO Institute of Statistics (UIS)\n",
    "data. UIS currently does not offer API access to its data. Users must download zipped files and extract the data.\n",
    "This process requires several manual steps explained in their [python tutorial](https://apiportal.uis.unesco.org/bdds-tutorial). This package simplifies the process by providing a simple\n",
    "interface to access, explore, and analyze the data, using pandas DataFrames. This package also\n",
    "allows users to view dataset documentation and other information such as the latest update date for, and all\n",
    "available datasets from UIS."
   ],
   "metadata": {}
  },
  {
   "cell_type": "markdown",
   "source": [
    "### Basic Usage"
   ],
   "metadata": {
    "collapsed": false
   }
  },
  {
   "cell_type": "markdown",
   "source": [
    "Start by installing and importing `unesco_reader`"
   ],
   "metadata": {
    "collapsed": false
   }
  },
  {
   "cell_type": "code",
   "outputs": [
    {
     "name": "stdout",
     "output_type": "stream",
     "text": [
      "Requirement already satisfied: unesco-reader in /Users/lucapicci/miniconda3/envs/unesco_reader_4/lib/python3.10/site-packages (0.3.1)\r\n",
      "Requirement already satisfied: bs4<0.0.3,>=0.0.2 in /Users/lucapicci/miniconda3/envs/unesco_reader_4/lib/python3.10/site-packages (from unesco-reader) (0.0.2)\r\n",
      "Requirement already satisfied: pandas<3.0.0,>=2.2.1 in /Users/lucapicci/miniconda3/envs/unesco_reader_4/lib/python3.10/site-packages (from unesco-reader) (2.2.1)\r\n",
      "Requirement already satisfied: tabulate<0.10.0,>=0.9.0 in /Users/lucapicci/miniconda3/envs/unesco_reader_4/lib/python3.10/site-packages (from unesco-reader) (0.9.0)\r\n",
      "Requirement already satisfied: beautifulsoup4 in /Users/lucapicci/miniconda3/envs/unesco_reader_4/lib/python3.10/site-packages (from bs4<0.0.3,>=0.0.2->unesco-reader) (4.12.3)\r\n",
      "Requirement already satisfied: numpy<2,>=1.22.4 in /Users/lucapicci/miniconda3/envs/unesco_reader_4/lib/python3.10/site-packages (from pandas<3.0.0,>=2.2.1->unesco-reader) (1.26.4)\r\n",
      "Requirement already satisfied: python-dateutil>=2.8.2 in /Users/lucapicci/miniconda3/envs/unesco_reader_4/lib/python3.10/site-packages (from pandas<3.0.0,>=2.2.1->unesco-reader) (2.9.0.post0)\r\n",
      "Requirement already satisfied: pytz>=2020.1 in /Users/lucapicci/miniconda3/envs/unesco_reader_4/lib/python3.10/site-packages (from pandas<3.0.0,>=2.2.1->unesco-reader) (2024.1)\r\n",
      "Requirement already satisfied: tzdata>=2022.7 in /Users/lucapicci/miniconda3/envs/unesco_reader_4/lib/python3.10/site-packages (from pandas<3.0.0,>=2.2.1->unesco-reader) (2024.1)\r\n",
      "Requirement already satisfied: six>=1.5 in /Users/lucapicci/miniconda3/envs/unesco_reader_4/lib/python3.10/site-packages (from python-dateutil>=2.8.2->pandas<3.0.0,>=2.2.1->unesco-reader) (1.16.0)\r\n",
      "Requirement already satisfied: soupsieve>1.2 in /Users/lucapicci/miniconda3/envs/unesco_reader_4/lib/python3.10/site-packages (from beautifulsoup4->bs4<0.0.3,>=0.0.2->unesco-reader) (2.5)\r\n"
     ]
    }
   ],
   "source": [
    "!pip install unesco-reader > /dev/null"
   ],
   "metadata": {
    "collapsed": false,
    "ExecuteTime": {
     "end_time": "2024-04-08T10:08:38.412009Z",
     "start_time": "2024-04-08T10:08:37.632404Z"
    }
   },
   "execution_count": 27
  },
  {
   "cell_type": "code",
   "execution_count": 22,
   "outputs": [],
   "source": [
    "import unesco_reader as uis"
   ],
   "metadata": {
    "collapsed": false,
    "ExecuteTime": {
     "end_time": "2024-04-08T10:00:13.689128Z",
     "start_time": "2024-04-08T10:00:13.685872Z"
    }
   }
  },
  {
   "cell_type": "markdown",
   "source": [
    "Retrieve information about all the available datasets from UIS."
   ],
   "metadata": {
    "collapsed": false
   }
  },
  {
   "cell_type": "code",
   "execution_count": 2,
   "outputs": [
    {
     "name": "stdout",
     "output_type": "stream",
     "text": [
      "name                                                               latest_update    theme\n",
      "-----------------------------------------------------------------  ---------------  ---------\n",
      "SDG Global and Thematic Indicators                                 February 2024    Education\n",
      "Other Policy Relevant Indicators (OPRI)                            February 2024    Education\n",
      "Research and Development (R&D) SDG 9.5                             February 2024    Science\n",
      "Research and Development (R&D) – Other Policy Relevant Indicators  February 2024    Science\n",
      "SDG 11.4                                                           February 2024    Culture\n",
      "Demographic and Socio-economic Indicators                          February 2024    External\n",
      "Education Non Core Archive                                         February 2020    Archive\n",
      "Innovation Archive                                                 April 2017       Archive\n",
      "Cultural trade Archive                                             June 2021        Archive\n",
      "Research and Development (R&D) Archive                             March 2021       Archive\n",
      "Cultural employment Archive                                        June 2019        Archive\n",
      "Feature Film Archive                                               February 2024    Archive\n"
     ]
    }
   ],
   "source": [
    "uis.info()"
   ],
   "metadata": {
    "collapsed": false,
    "ExecuteTime": {
     "end_time": "2024-04-08T09:43:36.557870Z",
     "start_time": "2024-04-08T09:43:36.017884Z"
    }
   }
  },
  {
   "cell_type": "markdown",
   "source": [
    "Retrieve a list of all available datasets from UIS."
   ],
   "metadata": {
    "collapsed": false
   }
  },
  {
   "cell_type": "code",
   "execution_count": 3,
   "outputs": [
    {
     "data": {
      "text/plain": "['SDG Global and Thematic Indicators',\n 'Other Policy Relevant Indicators (OPRI)',\n 'Research and Development (R&D) SDG 9.5',\n 'Research and Development (R&D) – Other Policy Relevant Indicators',\n 'SDG 11.4',\n 'Demographic and Socio-economic Indicators',\n 'Education Non Core Archive',\n 'Innovation Archive',\n 'Cultural trade Archive',\n 'Research and Development (R&D) Archive',\n 'Cultural employment Archive',\n 'Feature Film Archive']"
     },
     "execution_count": 3,
     "metadata": {},
     "output_type": "execute_result"
    }
   ],
   "source": [
    "uis.available_datasets()"
   ],
   "metadata": {
    "collapsed": false,
    "ExecuteTime": {
     "end_time": "2024-04-08T09:43:36.951872Z",
     "start_time": "2024-04-08T09:43:36.559319Z"
    }
   }
  },
  {
   "cell_type": "markdown",
   "source": [
    "Optionally you can specify a theme to filter the datasets."
   ],
   "metadata": {
    "collapsed": false
   }
  },
  {
   "cell_type": "code",
   "outputs": [
    {
     "data": {
      "text/plain": "['SDG Global and Thematic Indicators',\n 'Other Policy Relevant Indicators (OPRI)']"
     },
     "execution_count": 4,
     "metadata": {},
     "output_type": "execute_result"
    }
   ],
   "source": [
    "uis.available_datasets(theme='Education')"
   ],
   "metadata": {
    "collapsed": false,
    "ExecuteTime": {
     "end_time": "2024-04-08T09:43:36.956253Z",
     "start_time": "2024-04-08T09:43:36.952770Z"
    }
   },
   "execution_count": 4
  },
  {
   "cell_type": "markdown",
   "source": [
    "To access data for a particular dataset, use the `UIS` class passing the name of the dataset. \n",
    "A `UIS` object allows a user to easily access, explore, and analyse the data.\n",
    "On instantiation, the data will be extracted from the UIS website, or if it has already been \n",
    "extracted, it will be read from the cache (more on caching below)"
   ],
   "metadata": {
    "collapsed": false
   }
  },
  {
   "cell_type": "code",
   "execution_count": 5,
   "outputs": [
    {
     "name": "stderr",
     "output_type": "stream",
     "text": [
      "INFO: Dataset loaded successfully.\n"
     ]
    },
    {
     "data": {
      "text/plain": "UIS dataset: SDG Global and Thematic Indicators"
     },
     "execution_count": 5,
     "metadata": {},
     "output_type": "execute_result"
    }
   ],
   "source": [
    "sdg = uis.UIS(\"SDG Global and Thematic Indicators\")\n",
    "sdg"
   ],
   "metadata": {
    "collapsed": false,
    "ExecuteTime": {
     "end_time": "2024-04-08T09:43:42.381396Z",
     "start_time": "2024-04-08T09:43:36.958265Z"
    }
   }
  },
  {
   "cell_type": "markdown",
   "source": [
    "Basic information about the dataset can be accessed using the `info` method."
   ],
   "metadata": {
    "collapsed": false
   }
  },
  {
   "cell_type": "code",
   "execution_count": 6,
   "outputs": [
    {
     "name": "stdout",
     "output_type": "stream",
     "text": [
      "-------------  ----------------------------------\n",
      "name           SDG Global and Thematic Indicators\n",
      "latest update  February 2024\n",
      "theme          Education\n",
      "-------------  ----------------------------------\n"
     ]
    }
   ],
   "source": [
    "sdg.info()"
   ],
   "metadata": {
    "collapsed": false,
    "ExecuteTime": {
     "end_time": "2024-04-08T09:43:42.384789Z",
     "start_time": "2024-04-08T09:43:42.382201Z"
    }
   }
  },
  {
   "cell_type": "markdown",
   "source": [
    "Information is also accessible through the attributes of the object."
   ],
   "metadata": {
    "collapsed": false
   }
  },
  {
   "cell_type": "code",
   "execution_count": 7,
   "outputs": [
    {
     "name": "stdout",
     "output_type": "stream",
     "text": [
      "Name: SDG Global and Thematic Indicators\n",
      "Update: February 2024\n",
      "Theme: Education\n"
     ]
    }
   ],
   "source": [
    "name = sdg.name\n",
    "update = sdg.latest_update\n",
    "theme = sdg.theme\n",
    "\n",
    "print(f\"Name: {name}\\nUpdate: {update}\\nTheme: {theme}\")"
   ],
   "metadata": {
    "collapsed": false,
    "ExecuteTime": {
     "end_time": "2024-04-08T09:43:42.388088Z",
     "start_time": "2024-04-08T09:43:42.385516Z"
    }
   }
  },
  {
   "cell_type": "markdown",
   "source": [
    "The `readme` attribute contains the dataset documentation. To display the documentation, use the `display_readme` method."
   ],
   "metadata": {
    "collapsed": false
   }
  },
  {
   "cell_type": "code",
   "outputs": [
    {
     "name": "stdout",
     "output_type": "stream",
     "text": [
      "Dataset: Sustainable Development Goal 4\r\n",
      "Release date: 2024-02\r\n",
      "Data extracted on: 2024-02-16 11:52:41\r\n",
      "\r\n",
      "- [Introduction](#introduction)\r\n",
      "- [Intended Audience](#intended-audience)\r\n",
      "- [Contact information](#contact-information)\r\n",
      "- [Archive Content](#archive-content)\r\n",
      "- [Data Model](#data-model)\r\n",
      "- [Metadata](#metadata)\r\n",
      "- [License](#license)\r\n",
      "- [CHANGELOG all annotated changes for previous year](#changelog-all-annotated-changes-for-previous-year)\r\n",
      "\r\n",
      "# Introduction\r\n",
      "This archive consists of the latest official data disseminated by the UNESCO Institute of Statistics (UIS) for a specific dataset. This dataset was compiled using the latest data as of the date appearing at the beginning of this file. The UIS periodically updates this dataset. To find out when the next update will occur please visit http://uis.unesco.org.\r\n",
      "\r\n",
      "# Intended Audience \r\n",
      "This archive is a result of a rigorous data production activity that ensures a high level of data quality. In order to expose the dataset to the largest audience possible and reduce its complexity the UIS has normalized and compiled it using comma-separated values (CSV) format. Please note all files utilize UTF-8 encoding. This allows both beginners and seasoned data professionals to understand and work with it.\r\n",
      "\r\n",
      "More information about this data and tutorials can be found on the UIS Developer Portal here: https://apiportal.uis.unesco.org/\r\n",
      "\r\n",
      "# Contact information\r\n",
      "If you have any questions or comments about this archive please contact us at:\r\n",
      "\r\n",
      "UNESCO Institute for Statistics\r\n",
      "3500 De Maisonneuve Boulevard West, RS-1100\r\n",
      "Montreal, Quebec, Canada H3Z 3C1\r\n",
      "Tel: +1 514 343 6880\r\n",
      "Email: uis.datarequests@unesco.org\r\n",
      "\r\n",
      "# Archive Content\r\n",
      "This archive contains the following files:\r\n",
      "\r\n",
      "## DATASET_README_RELEASE_YEAR_Month.md\r\n",
      "The README filename is composed of:  The abbreviation for the dataset as a prefix, and the year and month of the release as a suffix.\r\n",
      "\r\n",
      "The README file also incorporates a header at the beginning of the file which identifies: the full title of the dataset contained in the archive, the month and year that the data was released by the UIS, and the date that the data was extracted to create the archive. The README file also details the contents of each file in the archive, as well as the data component layout and schema.  The README file is in MARKDOWN format (https://www.markdownguide.org/).\r\n",
      "\r\n",
      "## DATASETNAME_LABEL.csv\r\n",
      "This file is a list of all indicator codes and their descriptive labels:\r\n",
      "|Field Name|Field Description|\r\n",
      "|--|--|\r\n",
      "|INDICATOR_ID |Indicator code|\r\n",
      "|INDICATOR_LABEL_EN|Indicator code English label|\r\n",
      "\r\n",
      "## DATASETNAME_DATA_NATIONAL.csv\r\n",
      "This file contains all the national data available for this dataset and includes the following fields: \r\n",
      "|Field Name|Field Description|\r\n",
      "|--|--|\r\n",
      "|INDICATOR_ID|Indicator code|\r\n",
      "|COUNTRY_ID|ISO 3166-1 alpha-3 country code|\r\n",
      "|YEAR |Year of the measured value|\r\n",
      "|VALUE |Measured value|\r\n",
      "|MAGNITUDE |Metadata describing the NATURE of the measured value (see metadata section below)|\r\n",
      "|QUALIFIER|Metadata describing the QUALITY of the measured value (see metadata section below)|\r\n",
      "\r\n",
      "## DATASETNAME_DATA_REGIONAL.csv\r\n",
      "This file contains all the regional data available for this dataset and includes the following fields: \r\n",
      "|Field Name|Field Description|\r\n",
      "|--|--|\r\n",
      "|INDICATOR_ID|Indicator code|\r\n",
      "|REGION_ID|ISO 3166-1 alpha-3 country code|\r\n",
      "|YEAR |Year of the measured value|\r\n",
      "|VALUE |Measured value|\r\n",
      "|MAGNITUDE |Metadata describing the NATURE of the measured value (see metadata section below)|\r\n",
      "|QUALIFIER|Metadata describing the QUALITY of the measured value (see metadata section below)|\r\n",
      "\r\n",
      "\r\n",
      "## DATASETNAME_METADATA.csv\r\n",
      "This file contains all the metadata associated to the NATIONAL and REGIONAL data files above and includes the following fields: \r\n",
      "|Field Name|Field Description|\r\n",
      "|--|--|\r\n",
      "|INDICATOR_ID|Indicator code|\r\n",
      "|COUNTRY_ID|ISO 3166-1 alpha-3 country code|\r\n",
      "|YEAR |Year of the metadata value|\r\n",
      "|TYPE |Type of metadata|\r\n",
      "|METADATA|Metadata value|\r\n",
      "\r\n",
      "## DATASETNAME_COUNTRY.csv\r\n",
      "This file lists all country codes and their descriptive labels:\r\n",
      "|Field Name|Field Description|\r\n",
      "|--|--|\r\n",
      "|COUNTRY_ID|ISO 3166-1 alpha-3 country code|\r\n",
      "|COUNTRY_NAME_EN|UNSTATS M49 STANDARD English country name (https://unstats.un.org/unsd/methodology/m49/)|\r\n",
      "\r\n",
      "## DATASETNAME_REGION.csv\r\n",
      "This file lists all regions and the countries that belong to each region:\r\n",
      "|Field Name|Field Description|\r\n",
      "|--|--|\r\n",
      "|REGION_ID|Label is composed of the name (acronym) of the organization that is responsible for the regional composition + ': ' + name of the region\r\n",
      "|COUNTRY_ID|ISO 3166-1 alpha-3 country code|\r\n",
      "|COUNTRY_NAME_EN|UNSTATS M49 STANDARD English country name (https://unstats.un.org/unsd/methodology/m49/)|\r\n",
      "\r\n",
      "# Data Model\r\n",
      "The National (and Regional when available) data files can be linked with the: \r\n",
      "- **label file** using the “INDICATOR_ID” variable as the matching key.\r\n",
      "- **metadata file** (when available) using the “INDICATOR_ID”+”COUNTRY_ID”+”YEAR” variables combined as the matching key. Be aware that multiple metadata entries can match a unique data point from the data file i.e. there can be multiple metadata rows for a specific INDICATOR_ID/COUNTRY_ID/YEAR combination. Note that there can also be multiple entries within the same INDICATOR_ID/COUNTRY_ID/YEAR/TYPE combination. \r\n",
      "\r\n",
      "# Metadata\r\n",
      "## Indicator Metadata\r\n",
      "Most indicators have a Glossary entry that can be accessed on the UIS website at http://uis.unesco.org/en/glossary containing the indicators’: definition, interpretation, purpose, quality standards, calculation, types of disaggregation and limitation.\r\n",
      "\r\n",
      "## Magnitude\r\n",
      "MAGNITUDE describes the NATURE of the data point. Possible values are: \r\n",
      "- **NIL** – The value will be 0, and should be treated as NIL.\r\n",
      "- **NA** – The value will be 0.  This data point is NOT APPLICABLE for the submitting nation.\r\n",
      "- **SUPP** -  The value will be BLANK.  The data point was SUPPRESSED by request of the submitting nation.\r\n",
      "- **LOWREL** – The value will be NUMERIC.  The data point is of LOW RELIABILITY.\r\n",
      "- **INCLUDED** – The value will be BLANK. This data is INCLUDED in ANOTHER data point.\r\n",
      "- **INCLUDES** – The value will be NUMERIC.  This data point INCLUDES data from another data point.\r\n",
      "\r\n",
      "## Qualifier\r\n",
      "QUALIFIER describes the QUALITIES of the data point. Possible values are:\r\n",
      "- **NAT_EST** – The value will be NUMERIC.  This data point is a NATIONAL ESTIMATE.\r\n",
      "- **UIS_EST** – The value will be NUMERIC.  This data point is an ESTIMATE produced by the UNESCO INSTITUTE FOR STATISTICS.\r\n",
      "\r\n",
      "# License\r\n",
      "This dataset is licensed under the Creative Commons Attribution-ShareAlike 3.0 IGO License. To view a copy of this license, visit http://creativecommons.org/licenses/by-sa/3.0/igo/ or send a letter to Creative Commons, PO Box 1866, Mountain View, CA 94042, USA.\r\n",
      "\r\n",
      "# CHANGELOG all annotated changes for previous year\r\n",
      "\r\n"
     ]
    }
   ],
   "source": [
    "sdg.display_readme()"
   ],
   "metadata": {
    "collapsed": false,
    "ExecuteTime": {
     "end_time": "2024-04-08T09:43:42.390704Z",
     "start_time": "2024-04-08T09:43:42.388680Z"
    }
   },
   "execution_count": 8
  },
  {
   "cell_type": "markdown",
   "source": [
    "Various methods exist to access the data.\n",
    "To access country data:"
   ],
   "metadata": {
    "collapsed": false
   }
  },
  {
   "cell_type": "code",
   "execution_count": 9,
   "outputs": [
    {
     "data": {
      "text/plain": "        country_id                      country_name         indicator_id  \\\n0              VAT                          Holy See      ROFST.2.GPIA.CP   \n1              THA                          Thailand  EA.4T8.AG25T99.GPIA   \n2              VAT                          Holy See        TRTP.2T3.GPIA   \n3              LBR                           Liberia              GER.5T8   \n4              PAN                            Panama            GER.5T8.M   \n...            ...                               ...                  ...   \n1113029        BGD                        Bangladesh               CR.2.F   \n1113030        CHE                       Switzerland               CR.2.F   \n1113031        MLT                             Malta            CR.2.GPIA   \n1113032        BOL  Bolivia (Plurinational State of)               CR.3.F   \n1113033        ROU                           Romania               CR.2.F   \n\n                                           indicator_label  year      value  \n0        Out-of-school rate for adolescents of lower se...  1970   0.000000  \n1        Educational attainment rate, completed post-se...  1970   0.459320  \n2        Proportion of teachers with the minimum requir...  1970   0.000000  \n3        Gross enrolment ratio for tertiary education, ...  1970   0.891370  \n4        Gross enrolment ratio for tertiary education, ...  1970   7.298850  \n...                                                    ...   ...        ...  \n1113029  Completion rate, lower secondary education, fe...  2024  81.015709  \n1113030  Completion rate, lower secondary education, fe...  2024  99.218857  \n1113031  Completion rate, lower secondary education, ad...  2024   1.000714  \n1113032  Completion rate, upper secondary education, fe...  2024  76.721634  \n1113033  Completion rate, lower secondary education, fe...  2024  93.141327  \n\n[1113034 rows x 6 columns]",
      "text/html": "<div>\n<style scoped>\n    .dataframe tbody tr th:only-of-type {\n        vertical-align: middle;\n    }\n\n    .dataframe tbody tr th {\n        vertical-align: top;\n    }\n\n    .dataframe thead th {\n        text-align: right;\n    }\n</style>\n<table border=\"1\" class=\"dataframe\">\n  <thead>\n    <tr style=\"text-align: right;\">\n      <th></th>\n      <th>country_id</th>\n      <th>country_name</th>\n      <th>indicator_id</th>\n      <th>indicator_label</th>\n      <th>year</th>\n      <th>value</th>\n    </tr>\n  </thead>\n  <tbody>\n    <tr>\n      <th>0</th>\n      <td>VAT</td>\n      <td>Holy See</td>\n      <td>ROFST.2.GPIA.CP</td>\n      <td>Out-of-school rate for adolescents of lower se...</td>\n      <td>1970</td>\n      <td>0.000000</td>\n    </tr>\n    <tr>\n      <th>1</th>\n      <td>THA</td>\n      <td>Thailand</td>\n      <td>EA.4T8.AG25T99.GPIA</td>\n      <td>Educational attainment rate, completed post-se...</td>\n      <td>1970</td>\n      <td>0.459320</td>\n    </tr>\n    <tr>\n      <th>2</th>\n      <td>VAT</td>\n      <td>Holy See</td>\n      <td>TRTP.2T3.GPIA</td>\n      <td>Proportion of teachers with the minimum requir...</td>\n      <td>1970</td>\n      <td>0.000000</td>\n    </tr>\n    <tr>\n      <th>3</th>\n      <td>LBR</td>\n      <td>Liberia</td>\n      <td>GER.5T8</td>\n      <td>Gross enrolment ratio for tertiary education, ...</td>\n      <td>1970</td>\n      <td>0.891370</td>\n    </tr>\n    <tr>\n      <th>4</th>\n      <td>PAN</td>\n      <td>Panama</td>\n      <td>GER.5T8.M</td>\n      <td>Gross enrolment ratio for tertiary education, ...</td>\n      <td>1970</td>\n      <td>7.298850</td>\n    </tr>\n    <tr>\n      <th>...</th>\n      <td>...</td>\n      <td>...</td>\n      <td>...</td>\n      <td>...</td>\n      <td>...</td>\n      <td>...</td>\n    </tr>\n    <tr>\n      <th>1113029</th>\n      <td>BGD</td>\n      <td>Bangladesh</td>\n      <td>CR.2.F</td>\n      <td>Completion rate, lower secondary education, fe...</td>\n      <td>2024</td>\n      <td>81.015709</td>\n    </tr>\n    <tr>\n      <th>1113030</th>\n      <td>CHE</td>\n      <td>Switzerland</td>\n      <td>CR.2.F</td>\n      <td>Completion rate, lower secondary education, fe...</td>\n      <td>2024</td>\n      <td>99.218857</td>\n    </tr>\n    <tr>\n      <th>1113031</th>\n      <td>MLT</td>\n      <td>Malta</td>\n      <td>CR.2.GPIA</td>\n      <td>Completion rate, lower secondary education, ad...</td>\n      <td>2024</td>\n      <td>1.000714</td>\n    </tr>\n    <tr>\n      <th>1113032</th>\n      <td>BOL</td>\n      <td>Bolivia (Plurinational State of)</td>\n      <td>CR.3.F</td>\n      <td>Completion rate, upper secondary education, fe...</td>\n      <td>2024</td>\n      <td>76.721634</td>\n    </tr>\n    <tr>\n      <th>1113033</th>\n      <td>ROU</td>\n      <td>Romania</td>\n      <td>CR.2.F</td>\n      <td>Completion rate, lower secondary education, fe...</td>\n      <td>2024</td>\n      <td>93.141327</td>\n    </tr>\n  </tbody>\n</table>\n<p>1113034 rows × 6 columns</p>\n</div>"
     },
     "execution_count": 9,
     "metadata": {},
     "output_type": "execute_result"
    }
   ],
   "source": [
    "sdg.get_country_data()"
   ],
   "metadata": {
    "collapsed": false,
    "ExecuteTime": {
     "end_time": "2024-04-08T09:43:42.446549Z",
     "start_time": "2024-04-08T09:43:42.391570Z"
    }
   }
  },
  {
   "cell_type": "markdown",
   "source": [
    "This will return a pandas DataFrame with the country data, in a structured and expected format.\n",
    "By default the dataframe will not contain metadata. To include metadata in the output, set the `metadata` parameter to `True`.\n",
    "Countries may also be filtered for a specific region by specifying the region's ID in the `region` parameter.\n",
    "To see available regions use the `get_regions` method."
   ],
   "metadata": {
    "collapsed": false
   }
  },
  {
   "cell_type": "code",
   "outputs": [
    {
     "data": {
      "text/plain": "        country_id                      country_name         indicator_id  \\\n0              THA                          Thailand  EA.4T8.AG25T99.GPIA   \n1              LBR                           Liberia              GER.5T8   \n2              PAN                            Panama            GER.5T8.M   \n3              LBN                           Lebanon      EA.S1T8.AG25T99   \n4              USA          United States of America       EA.2T8.AG25T99   \n...            ...                               ...                  ...   \n1095690        BGD                        Bangladesh               CR.2.F   \n1095691        CHE                       Switzerland               CR.2.F   \n1095692        MLT                             Malta            CR.2.GPIA   \n1095693        BOL  Bolivia (Plurinational State of)               CR.3.F   \n1095694        ROU                           Romania               CR.2.F   \n\n                                           indicator_label  year      value  \\\n0        Educational attainment rate, completed post-se...  1970   0.459320   \n1        Gross enrolment ratio for tertiary education, ...  1970   0.891370   \n2        Gross enrolment ratio for tertiary education, ...  1970   7.298850   \n3        Educational attainment: at least some primary ...  1970  54.400002   \n4        Educational attainment rate, completed lower s...  1970  65.680931   \n...                                                    ...   ...        ...   \n1095690  Completion rate, lower secondary education, fe...  2024  81.015709   \n1095691  Completion rate, lower secondary education, fe...  2024  99.218857   \n1095692  Completion rate, lower secondary education, ad...  2024   1.000714   \n1095693  Completion rate, upper secondary education, fe...  2024  76.721634   \n1095694  Completion rate, lower secondary education, fe...  2024  93.141327   \n\n        magnitude qualifier Change:Data reporting  \\\n0             NaN       NaN                   NaN   \n1             NaN       NaN                   NaN   \n2             NaN       NaN                   NaN   \n3             NaN       NaN                   NaN   \n4             NaN       NaN                   NaN   \n...           ...       ...                   ...   \n1095690       NaN       NaN                   NaN   \n1095691       NaN       NaN                   NaN   \n1095692       NaN       NaN                   NaN   \n1095693       NaN       NaN                   NaN   \n1095694       NaN       NaN                   NaN   \n\n                                       Source:Data sources  \\\n0                                           Source: Census   \n1                                                      NaN   \n2                                                      NaN   \n3                                           Source: Census   \n4                                           Source: Census   \n...                                                    ...   \n1095690  https://education-estimates.org/completion/dat...   \n1095691  https://education-estimates.org/completion/dat...   \n1095692  https://education-estimates.org/completion/dat...   \n1095693  https://education-estimates.org/completion/dat...   \n1095694  https://education-estimates.org/completion/dat...   \n\n        Under Coverage:Students or individuals  \n0                                          NaN  \n1                                          NaN  \n2                                          NaN  \n3                                          NaN  \n4                                          NaN  \n...                                        ...  \n1095690                                    NaN  \n1095691                                    NaN  \n1095692                                    NaN  \n1095693                                    NaN  \n1095694                                    NaN  \n\n[1095695 rows x 11 columns]",
      "text/html": "<div>\n<style scoped>\n    .dataframe tbody tr th:only-of-type {\n        vertical-align: middle;\n    }\n\n    .dataframe tbody tr th {\n        vertical-align: top;\n    }\n\n    .dataframe thead th {\n        text-align: right;\n    }\n</style>\n<table border=\"1\" class=\"dataframe\">\n  <thead>\n    <tr style=\"text-align: right;\">\n      <th></th>\n      <th>country_id</th>\n      <th>country_name</th>\n      <th>indicator_id</th>\n      <th>indicator_label</th>\n      <th>year</th>\n      <th>value</th>\n      <th>magnitude</th>\n      <th>qualifier</th>\n      <th>Change:Data reporting</th>\n      <th>Source:Data sources</th>\n      <th>Under Coverage:Students or individuals</th>\n    </tr>\n  </thead>\n  <tbody>\n    <tr>\n      <th>0</th>\n      <td>THA</td>\n      <td>Thailand</td>\n      <td>EA.4T8.AG25T99.GPIA</td>\n      <td>Educational attainment rate, completed post-se...</td>\n      <td>1970</td>\n      <td>0.459320</td>\n      <td>NaN</td>\n      <td>NaN</td>\n      <td>NaN</td>\n      <td>Source: Census</td>\n      <td>NaN</td>\n    </tr>\n    <tr>\n      <th>1</th>\n      <td>LBR</td>\n      <td>Liberia</td>\n      <td>GER.5T8</td>\n      <td>Gross enrolment ratio for tertiary education, ...</td>\n      <td>1970</td>\n      <td>0.891370</td>\n      <td>NaN</td>\n      <td>NaN</td>\n      <td>NaN</td>\n      <td>NaN</td>\n      <td>NaN</td>\n    </tr>\n    <tr>\n      <th>2</th>\n      <td>PAN</td>\n      <td>Panama</td>\n      <td>GER.5T8.M</td>\n      <td>Gross enrolment ratio for tertiary education, ...</td>\n      <td>1970</td>\n      <td>7.298850</td>\n      <td>NaN</td>\n      <td>NaN</td>\n      <td>NaN</td>\n      <td>NaN</td>\n      <td>NaN</td>\n    </tr>\n    <tr>\n      <th>3</th>\n      <td>LBN</td>\n      <td>Lebanon</td>\n      <td>EA.S1T8.AG25T99</td>\n      <td>Educational attainment: at least some primary ...</td>\n      <td>1970</td>\n      <td>54.400002</td>\n      <td>NaN</td>\n      <td>NaN</td>\n      <td>NaN</td>\n      <td>Source: Census</td>\n      <td>NaN</td>\n    </tr>\n    <tr>\n      <th>4</th>\n      <td>USA</td>\n      <td>United States of America</td>\n      <td>EA.2T8.AG25T99</td>\n      <td>Educational attainment rate, completed lower s...</td>\n      <td>1970</td>\n      <td>65.680931</td>\n      <td>NaN</td>\n      <td>NaN</td>\n      <td>NaN</td>\n      <td>Source: Census</td>\n      <td>NaN</td>\n    </tr>\n    <tr>\n      <th>...</th>\n      <td>...</td>\n      <td>...</td>\n      <td>...</td>\n      <td>...</td>\n      <td>...</td>\n      <td>...</td>\n      <td>...</td>\n      <td>...</td>\n      <td>...</td>\n      <td>...</td>\n      <td>...</td>\n    </tr>\n    <tr>\n      <th>1095690</th>\n      <td>BGD</td>\n      <td>Bangladesh</td>\n      <td>CR.2.F</td>\n      <td>Completion rate, lower secondary education, fe...</td>\n      <td>2024</td>\n      <td>81.015709</td>\n      <td>NaN</td>\n      <td>NaN</td>\n      <td>NaN</td>\n      <td>https://education-estimates.org/completion/dat...</td>\n      <td>NaN</td>\n    </tr>\n    <tr>\n      <th>1095691</th>\n      <td>CHE</td>\n      <td>Switzerland</td>\n      <td>CR.2.F</td>\n      <td>Completion rate, lower secondary education, fe...</td>\n      <td>2024</td>\n      <td>99.218857</td>\n      <td>NaN</td>\n      <td>NaN</td>\n      <td>NaN</td>\n      <td>https://education-estimates.org/completion/dat...</td>\n      <td>NaN</td>\n    </tr>\n    <tr>\n      <th>1095692</th>\n      <td>MLT</td>\n      <td>Malta</td>\n      <td>CR.2.GPIA</td>\n      <td>Completion rate, lower secondary education, ad...</td>\n      <td>2024</td>\n      <td>1.000714</td>\n      <td>NaN</td>\n      <td>NaN</td>\n      <td>NaN</td>\n      <td>https://education-estimates.org/completion/dat...</td>\n      <td>NaN</td>\n    </tr>\n    <tr>\n      <th>1095693</th>\n      <td>BOL</td>\n      <td>Bolivia (Plurinational State of)</td>\n      <td>CR.3.F</td>\n      <td>Completion rate, upper secondary education, fe...</td>\n      <td>2024</td>\n      <td>76.721634</td>\n      <td>NaN</td>\n      <td>NaN</td>\n      <td>NaN</td>\n      <td>https://education-estimates.org/completion/dat...</td>\n      <td>NaN</td>\n    </tr>\n    <tr>\n      <th>1095694</th>\n      <td>ROU</td>\n      <td>Romania</td>\n      <td>CR.2.F</td>\n      <td>Completion rate, lower secondary education, fe...</td>\n      <td>2024</td>\n      <td>93.141327</td>\n      <td>NaN</td>\n      <td>NaN</td>\n      <td>NaN</td>\n      <td>https://education-estimates.org/completion/dat...</td>\n      <td>NaN</td>\n    </tr>\n  </tbody>\n</table>\n<p>1095695 rows × 11 columns</p>\n</div>"
     },
     "execution_count": 10,
     "metadata": {},
     "output_type": "execute_result"
    }
   ],
   "source": [
    "sdg.get_country_data(include_metadata=True, region='WB: World')"
   ],
   "metadata": {
    "collapsed": false,
    "ExecuteTime": {
     "end_time": "2024-04-08T09:43:42.682218Z",
     "start_time": "2024-04-08T09:43:42.447492Z"
    }
   },
   "execution_count": 10
  },
  {
   "cell_type": "markdown",
   "source": [
    "Metadata, available countries, available regions, and variables are also accessible through class objects.\n"
   ],
   "metadata": {
    "collapsed": false
   }
  },
  {
   "cell_type": "code",
   "execution_count": 11,
   "outputs": [
    {
     "data": {
      "text/plain": "       country_id              country_name               indicator_id  \\\n0             ALB                   Albania     ADMI.ENDOFLOWERSEC.MAT   \n1             ALB                   Albania     ADMI.ENDOFLOWERSEC.MAT   \n2             ALB                   Albania     ADMI.ENDOFLOWERSEC.MAT   \n3             ALB                   Albania     ADMI.ENDOFLOWERSEC.MAT   \n4             ALB                   Albania     ADMI.ENDOFLOWERSEC.MAT   \n...           ...                       ...                        ...   \n859003        SVN                  Slovenia  YADULT.PROFINUMERACY.WPIA   \n859004        SWE                    Sweden  YADULT.PROFINUMERACY.WPIA   \n859005        TUR                    Turkey  YADULT.PROFINUMERACY.WPIA   \n859006        USA  United States of America  YADULT.PROFINUMERACY.WPIA   \n859007        USA  United States of America  YADULT.PROFINUMERACY.WPIA   \n\n                                          indicator_label  year  \\\n0        Administration of a nationally-representative...  2014   \n1        Administration of a nationally-representative...  2015   \n2        Administration of a nationally-representative...  2016   \n3        Administration of a nationally-representative...  2017   \n4        Administration of a nationally-representative...  2018   \n...                                                   ...   ...   \n859003  Proportion of population achieving at least a ...  2015   \n859004  Proportion of population achieving at least a ...  2012   \n859005  Proportion of population achieving at least a ...  2015   \n859006  Proportion of population achieving at least a ...  2014   \n859007  Proportion of population achieving at least a ...  2017   \n\n                       type                                           metadata  \n0       Source:Data sources  Programme for International Student Assessment...  \n1       Source:Data sources  Programme for International Student Assessment...  \n2       Source:Data sources  Programme for International Student Assessment...  \n3       Source:Data sources  Programme for International Student Assessment...  \n4       Source:Data sources  Programme for International Student Assessment...  \n...                     ...                                                ...  \n859003  Source:Data sources  Programme for the International Assessment of ...  \n859004  Source:Data sources  Programme for the International Assessment of ...  \n859005  Source:Data sources  Programme for the International Assessment of ...  \n859006  Source:Data sources  Programme for the International Assessment of ...  \n859007  Source:Data sources  Programme for the International Assessment of ...  \n\n[859008 rows x 7 columns]",
      "text/html": "<div>\n<style scoped>\n    .dataframe tbody tr th:only-of-type {\n        vertical-align: middle;\n    }\n\n    .dataframe tbody tr th {\n        vertical-align: top;\n    }\n\n    .dataframe thead th {\n        text-align: right;\n    }\n</style>\n<table border=\"1\" class=\"dataframe\">\n  <thead>\n    <tr style=\"text-align: right;\">\n      <th></th>\n      <th>country_id</th>\n      <th>country_name</th>\n      <th>indicator_id</th>\n      <th>indicator_label</th>\n      <th>year</th>\n      <th>type</th>\n      <th>metadata</th>\n    </tr>\n  </thead>\n  <tbody>\n    <tr>\n      <th>0</th>\n      <td>ALB</td>\n      <td>Albania</td>\n      <td>ADMI.ENDOFLOWERSEC.MAT</td>\n      <td>Administration of a nationally-representative...</td>\n      <td>2014</td>\n      <td>Source:Data sources</td>\n      <td>Programme for International Student Assessment...</td>\n    </tr>\n    <tr>\n      <th>1</th>\n      <td>ALB</td>\n      <td>Albania</td>\n      <td>ADMI.ENDOFLOWERSEC.MAT</td>\n      <td>Administration of a nationally-representative...</td>\n      <td>2015</td>\n      <td>Source:Data sources</td>\n      <td>Programme for International Student Assessment...</td>\n    </tr>\n    <tr>\n      <th>2</th>\n      <td>ALB</td>\n      <td>Albania</td>\n      <td>ADMI.ENDOFLOWERSEC.MAT</td>\n      <td>Administration of a nationally-representative...</td>\n      <td>2016</td>\n      <td>Source:Data sources</td>\n      <td>Programme for International Student Assessment...</td>\n    </tr>\n    <tr>\n      <th>3</th>\n      <td>ALB</td>\n      <td>Albania</td>\n      <td>ADMI.ENDOFLOWERSEC.MAT</td>\n      <td>Administration of a nationally-representative...</td>\n      <td>2017</td>\n      <td>Source:Data sources</td>\n      <td>Programme for International Student Assessment...</td>\n    </tr>\n    <tr>\n      <th>4</th>\n      <td>ALB</td>\n      <td>Albania</td>\n      <td>ADMI.ENDOFLOWERSEC.MAT</td>\n      <td>Administration of a nationally-representative...</td>\n      <td>2018</td>\n      <td>Source:Data sources</td>\n      <td>Programme for International Student Assessment...</td>\n    </tr>\n    <tr>\n      <th>...</th>\n      <td>...</td>\n      <td>...</td>\n      <td>...</td>\n      <td>...</td>\n      <td>...</td>\n      <td>...</td>\n      <td>...</td>\n    </tr>\n    <tr>\n      <th>859003</th>\n      <td>SVN</td>\n      <td>Slovenia</td>\n      <td>YADULT.PROFINUMERACY.WPIA</td>\n      <td>Proportion of population achieving at least a ...</td>\n      <td>2015</td>\n      <td>Source:Data sources</td>\n      <td>Programme for the International Assessment of ...</td>\n    </tr>\n    <tr>\n      <th>859004</th>\n      <td>SWE</td>\n      <td>Sweden</td>\n      <td>YADULT.PROFINUMERACY.WPIA</td>\n      <td>Proportion of population achieving at least a ...</td>\n      <td>2012</td>\n      <td>Source:Data sources</td>\n      <td>Programme for the International Assessment of ...</td>\n    </tr>\n    <tr>\n      <th>859005</th>\n      <td>TUR</td>\n      <td>Turkey</td>\n      <td>YADULT.PROFINUMERACY.WPIA</td>\n      <td>Proportion of population achieving at least a ...</td>\n      <td>2015</td>\n      <td>Source:Data sources</td>\n      <td>Programme for the International Assessment of ...</td>\n    </tr>\n    <tr>\n      <th>859006</th>\n      <td>USA</td>\n      <td>United States of America</td>\n      <td>YADULT.PROFINUMERACY.WPIA</td>\n      <td>Proportion of population achieving at least a ...</td>\n      <td>2014</td>\n      <td>Source:Data sources</td>\n      <td>Programme for the International Assessment of ...</td>\n    </tr>\n    <tr>\n      <th>859007</th>\n      <td>USA</td>\n      <td>United States of America</td>\n      <td>YADULT.PROFINUMERACY.WPIA</td>\n      <td>Proportion of population achieving at least a ...</td>\n      <td>2017</td>\n      <td>Source:Data sources</td>\n      <td>Programme for the International Assessment of ...</td>\n    </tr>\n  </tbody>\n</table>\n<p>859008 rows × 7 columns</p>\n</div>"
     },
     "execution_count": 11,
     "metadata": {},
     "output_type": "execute_result"
    }
   ],
   "source": [
    "sdg.get_metadata() # metadata"
   ],
   "metadata": {
    "collapsed": false,
    "ExecuteTime": {
     "end_time": "2024-04-08T09:43:42.688997Z",
     "start_time": "2024-04-08T09:43:42.683166Z"
    }
   }
  },
  {
   "cell_type": "code",
   "execution_count": 12,
   "outputs": [
    {
     "data": {
      "text/plain": "    country_id                      country_name\n0          AFG                       Afghanistan\n1          ALB                           Albania\n2          DZA                           Algeria\n3          ASM                    American Samoa\n4          AND                           Andorra\n..         ...                               ...\n236        WLF         Wallis and Futuna Islands\n237        WSM                             Samoa\n238        YEM                             Yemen\n239        COD  Democratic Republic of the Congo\n240        ZMB                            Zambia\n\n[241 rows x 2 columns]",
      "text/html": "<div>\n<style scoped>\n    .dataframe tbody tr th:only-of-type {\n        vertical-align: middle;\n    }\n\n    .dataframe tbody tr th {\n        vertical-align: top;\n    }\n\n    .dataframe thead th {\n        text-align: right;\n    }\n</style>\n<table border=\"1\" class=\"dataframe\">\n  <thead>\n    <tr style=\"text-align: right;\">\n      <th></th>\n      <th>country_id</th>\n      <th>country_name</th>\n    </tr>\n  </thead>\n  <tbody>\n    <tr>\n      <th>0</th>\n      <td>AFG</td>\n      <td>Afghanistan</td>\n    </tr>\n    <tr>\n      <th>1</th>\n      <td>ALB</td>\n      <td>Albania</td>\n    </tr>\n    <tr>\n      <th>2</th>\n      <td>DZA</td>\n      <td>Algeria</td>\n    </tr>\n    <tr>\n      <th>3</th>\n      <td>ASM</td>\n      <td>American Samoa</td>\n    </tr>\n    <tr>\n      <th>4</th>\n      <td>AND</td>\n      <td>Andorra</td>\n    </tr>\n    <tr>\n      <th>...</th>\n      <td>...</td>\n      <td>...</td>\n    </tr>\n    <tr>\n      <th>236</th>\n      <td>WLF</td>\n      <td>Wallis and Futuna Islands</td>\n    </tr>\n    <tr>\n      <th>237</th>\n      <td>WSM</td>\n      <td>Samoa</td>\n    </tr>\n    <tr>\n      <th>238</th>\n      <td>YEM</td>\n      <td>Yemen</td>\n    </tr>\n    <tr>\n      <th>239</th>\n      <td>COD</td>\n      <td>Democratic Republic of the Congo</td>\n    </tr>\n    <tr>\n      <th>240</th>\n      <td>ZMB</td>\n      <td>Zambia</td>\n    </tr>\n  </tbody>\n</table>\n<p>241 rows × 2 columns</p>\n</div>"
     },
     "execution_count": 12,
     "metadata": {},
     "output_type": "execute_result"
    }
   ],
   "source": [
    "sdg.get_countries() # available countries"
   ],
   "metadata": {
    "collapsed": false,
    "ExecuteTime": {
     "end_time": "2024-04-08T09:43:42.694362Z",
     "start_time": "2024-04-08T09:43:42.689775Z"
    }
   }
  },
  {
   "cell_type": "code",
   "execution_count": 13,
   "outputs": [
    {
     "data": {
      "text/plain": "                       region_id country_id                      country_name  \\\n0     AIMS: Asia and the Pacific        AFG                       Afghanistan   \n1     AIMS: Asia and the Pacific        AUS                         Australia   \n2     AIMS: Asia and the Pacific        BGD                        Bangladesh   \n3     AIMS: Asia and the Pacific        BTN                            Bhutan   \n4     AIMS: Asia and the Pacific        SLB                   Solomon Islands   \n...                          ...        ...                               ...   \n7297                   WB: World        VIR      United States Virgin Islands   \n7298                   WB: World        WSM                             Samoa   \n7299                   WB: World        YEM                             Yemen   \n7300                   WB: World        COD  Democratic Republic of the Congo   \n7301                   WB: World        ZMB                            Zambia   \n\n     grouping_entity           region_name  \n0               AIMS  Asia and the Pacific  \n1               AIMS  Asia and the Pacific  \n2               AIMS  Asia and the Pacific  \n3               AIMS  Asia and the Pacific  \n4               AIMS  Asia and the Pacific  \n...              ...                   ...  \n7297              WB                 World  \n7298              WB                 World  \n7299              WB                 World  \n7300              WB                 World  \n7301              WB                 World  \n\n[7302 rows x 5 columns]",
      "text/html": "<div>\n<style scoped>\n    .dataframe tbody tr th:only-of-type {\n        vertical-align: middle;\n    }\n\n    .dataframe tbody tr th {\n        vertical-align: top;\n    }\n\n    .dataframe thead th {\n        text-align: right;\n    }\n</style>\n<table border=\"1\" class=\"dataframe\">\n  <thead>\n    <tr style=\"text-align: right;\">\n      <th></th>\n      <th>region_id</th>\n      <th>country_id</th>\n      <th>country_name</th>\n      <th>grouping_entity</th>\n      <th>region_name</th>\n    </tr>\n  </thead>\n  <tbody>\n    <tr>\n      <th>0</th>\n      <td>AIMS: Asia and the Pacific</td>\n      <td>AFG</td>\n      <td>Afghanistan</td>\n      <td>AIMS</td>\n      <td>Asia and the Pacific</td>\n    </tr>\n    <tr>\n      <th>1</th>\n      <td>AIMS: Asia and the Pacific</td>\n      <td>AUS</td>\n      <td>Australia</td>\n      <td>AIMS</td>\n      <td>Asia and the Pacific</td>\n    </tr>\n    <tr>\n      <th>2</th>\n      <td>AIMS: Asia and the Pacific</td>\n      <td>BGD</td>\n      <td>Bangladesh</td>\n      <td>AIMS</td>\n      <td>Asia and the Pacific</td>\n    </tr>\n    <tr>\n      <th>3</th>\n      <td>AIMS: Asia and the Pacific</td>\n      <td>BTN</td>\n      <td>Bhutan</td>\n      <td>AIMS</td>\n      <td>Asia and the Pacific</td>\n    </tr>\n    <tr>\n      <th>4</th>\n      <td>AIMS: Asia and the Pacific</td>\n      <td>SLB</td>\n      <td>Solomon Islands</td>\n      <td>AIMS</td>\n      <td>Asia and the Pacific</td>\n    </tr>\n    <tr>\n      <th>...</th>\n      <td>...</td>\n      <td>...</td>\n      <td>...</td>\n      <td>...</td>\n      <td>...</td>\n    </tr>\n    <tr>\n      <th>7297</th>\n      <td>WB: World</td>\n      <td>VIR</td>\n      <td>United States Virgin Islands</td>\n      <td>WB</td>\n      <td>World</td>\n    </tr>\n    <tr>\n      <th>7298</th>\n      <td>WB: World</td>\n      <td>WSM</td>\n      <td>Samoa</td>\n      <td>WB</td>\n      <td>World</td>\n    </tr>\n    <tr>\n      <th>7299</th>\n      <td>WB: World</td>\n      <td>YEM</td>\n      <td>Yemen</td>\n      <td>WB</td>\n      <td>World</td>\n    </tr>\n    <tr>\n      <th>7300</th>\n      <td>WB: World</td>\n      <td>COD</td>\n      <td>Democratic Republic of the Congo</td>\n      <td>WB</td>\n      <td>World</td>\n    </tr>\n    <tr>\n      <th>7301</th>\n      <td>WB: World</td>\n      <td>ZMB</td>\n      <td>Zambia</td>\n      <td>WB</td>\n      <td>World</td>\n    </tr>\n  </tbody>\n</table>\n<p>7302 rows × 5 columns</p>\n</div>"
     },
     "execution_count": 13,
     "metadata": {},
     "output_type": "execute_result"
    }
   ],
   "source": [
    "sdg.get_regions() # available regions"
   ],
   "metadata": {
    "collapsed": false,
    "ExecuteTime": {
     "end_time": "2024-04-08T09:43:42.699910Z",
     "start_time": "2024-04-08T09:43:42.695315Z"
    }
   }
  },
  {
   "cell_type": "code",
   "execution_count": 14,
   "outputs": [
    {
     "data": {
      "text/plain": "                   indicator_id  \\\n0        ADMI.ENDOFLOWERSEC.MAT   \n1       ADMI.ENDOFLOWERSEC.READ   \n2            ADMI.ENDOFPRIM.MAT   \n3           ADMI.ENDOFPRIM.READ   \n4        ADMI.GRADE2OR3PRIM.MAT   \n...                         ...   \n2132  YADULT.PROFINUMERACY.WPIA   \n2133           YEARS.FC.COMP.02   \n2134          YEARS.FC.COMP.1T3   \n2135           YEARS.FC.FREE.02   \n2136          YEARS.FC.FREE.1T3   \n\n                                        indicator_label  \n0      Administration of a nationally-representative...  \n1      Administration of a nationally-representative...  \n2      Administration of a nationally-representative...  \n3      Administration of a nationally-representative...  \n4      Administration of a nationally representative...  \n...                                                 ...  \n2132  Proportion of population achieving at least a ...  \n2133  Number of years of compulsory pre-primary educ...  \n2134  Number of years of compulsory primary and seco...  \n2135  Number of years of free pre-primary education ...  \n2136  Number of years of free primary and secondary ...  \n\n[2137 rows x 2 columns]",
      "text/html": "<div>\n<style scoped>\n    .dataframe tbody tr th:only-of-type {\n        vertical-align: middle;\n    }\n\n    .dataframe tbody tr th {\n        vertical-align: top;\n    }\n\n    .dataframe thead th {\n        text-align: right;\n    }\n</style>\n<table border=\"1\" class=\"dataframe\">\n  <thead>\n    <tr style=\"text-align: right;\">\n      <th></th>\n      <th>indicator_id</th>\n      <th>indicator_label</th>\n    </tr>\n  </thead>\n  <tbody>\n    <tr>\n      <th>0</th>\n      <td>ADMI.ENDOFLOWERSEC.MAT</td>\n      <td>Administration of a nationally-representative...</td>\n    </tr>\n    <tr>\n      <th>1</th>\n      <td>ADMI.ENDOFLOWERSEC.READ</td>\n      <td>Administration of a nationally-representative...</td>\n    </tr>\n    <tr>\n      <th>2</th>\n      <td>ADMI.ENDOFPRIM.MAT</td>\n      <td>Administration of a nationally-representative...</td>\n    </tr>\n    <tr>\n      <th>3</th>\n      <td>ADMI.ENDOFPRIM.READ</td>\n      <td>Administration of a nationally-representative...</td>\n    </tr>\n    <tr>\n      <th>4</th>\n      <td>ADMI.GRADE2OR3PRIM.MAT</td>\n      <td>Administration of a nationally representative...</td>\n    </tr>\n    <tr>\n      <th>...</th>\n      <td>...</td>\n      <td>...</td>\n    </tr>\n    <tr>\n      <th>2132</th>\n      <td>YADULT.PROFINUMERACY.WPIA</td>\n      <td>Proportion of population achieving at least a ...</td>\n    </tr>\n    <tr>\n      <th>2133</th>\n      <td>YEARS.FC.COMP.02</td>\n      <td>Number of years of compulsory pre-primary educ...</td>\n    </tr>\n    <tr>\n      <th>2134</th>\n      <td>YEARS.FC.COMP.1T3</td>\n      <td>Number of years of compulsory primary and seco...</td>\n    </tr>\n    <tr>\n      <th>2135</th>\n      <td>YEARS.FC.FREE.02</td>\n      <td>Number of years of free pre-primary education ...</td>\n    </tr>\n    <tr>\n      <th>2136</th>\n      <td>YEARS.FC.FREE.1T3</td>\n      <td>Number of years of free primary and secondary ...</td>\n    </tr>\n  </tbody>\n</table>\n<p>2137 rows × 2 columns</p>\n</div>"
     },
     "execution_count": 14,
     "metadata": {},
     "output_type": "execute_result"
    }
   ],
   "source": [
    "sdg.get_variables() # available variables"
   ],
   "metadata": {
    "collapsed": false,
    "ExecuteTime": {
     "end_time": "2024-04-08T09:43:42.707285Z",
     "start_time": "2024-04-08T09:43:42.702741Z"
    }
   }
  },
  {
   "cell_type": "markdown",
   "source": [
    "To refresh the data and extract the latest data from the UIS website, use the `refresh_data` method."
   ],
   "metadata": {
    "collapsed": false
   }
  },
  {
   "cell_type": "code",
   "outputs": [
    {
     "name": "stderr",
     "output_type": "stream",
     "text": [
      "INFO: Data refreshed successfully.\n"
     ]
    }
   ],
   "source": [
    "sdg.refresh()"
   ],
   "metadata": {
    "collapsed": false,
    "ExecuteTime": {
     "end_time": "2024-04-08T09:43:47.893872Z",
     "start_time": "2024-04-08T09:43:42.708258Z"
    }
   },
   "execution_count": 15
  },
  {
   "cell_type": "markdown",
   "source": [
    "### Caching\n",
    "\n",
    "Caching is used to prevent unnecessary requests to the UIS website and enhance performance.\n",
    "To refresh data returned by functions, use the `refresh` parameter."
   ],
   "metadata": {
    "collapsed": false
   }
  },
  {
   "cell_type": "code",
   "outputs": [
    {
     "name": "stdout",
     "output_type": "stream",
     "text": [
      "name                                                               latest_update    theme\n",
      "-----------------------------------------------------------------  ---------------  ---------\n",
      "SDG Global and Thematic Indicators                                 February 2024    Education\n",
      "Other Policy Relevant Indicators (OPRI)                            February 2024    Education\n",
      "Research and Development (R&D) SDG 9.5                             February 2024    Science\n",
      "Research and Development (R&D) – Other Policy Relevant Indicators  February 2024    Science\n",
      "SDG 11.4                                                           February 2024    Culture\n",
      "Demographic and Socio-economic Indicators                          February 2024    External\n",
      "Education Non Core Archive                                         February 2020    Archive\n",
      "Innovation Archive                                                 April 2017       Archive\n",
      "Cultural trade Archive                                             June 2021        Archive\n",
      "Research and Development (R&D) Archive                             March 2021       Archive\n",
      "Cultural employment Archive                                        June 2019        Archive\n",
      "Feature Film Archive                                               February 2024    Archive\n"
     ]
    }
   ],
   "source": [
    "uis.info(refresh=True)"
   ],
   "metadata": {
    "collapsed": false,
    "ExecuteTime": {
     "end_time": "2024-04-08T09:43:47.897441Z",
     "start_time": "2024-04-08T09:43:47.894621Z"
    }
   },
   "execution_count": 16
  },
  {
   "cell_type": "code",
   "outputs": [
    {
     "data": {
      "text/plain": "['SDG Global and Thematic Indicators',\n 'Other Policy Relevant Indicators (OPRI)',\n 'Research and Development (R&D) SDG 9.5',\n 'Research and Development (R&D) – Other Policy Relevant Indicators',\n 'SDG 11.4',\n 'Demographic and Socio-economic Indicators',\n 'Education Non Core Archive',\n 'Innovation Archive',\n 'Cultural trade Archive',\n 'Research and Development (R&D) Archive',\n 'Cultural employment Archive',\n 'Feature Film Archive']"
     },
     "execution_count": 17,
     "metadata": {},
     "output_type": "execute_result"
    }
   ],
   "source": [
    "uis.available_datasets(refresh=True)"
   ],
   "metadata": {
    "collapsed": false,
    "ExecuteTime": {
     "end_time": "2024-04-08T09:43:47.901332Z",
     "start_time": "2024-04-08T09:43:47.898174Z"
    }
   },
   "execution_count": 17
  },
  {
   "cell_type": "markdown",
   "source": [
    "`refresh=True` will clear the cache and force extraction of the data and information from the UIS website.\n",
    "\n",
    "For the `UIS` class, the `refresh_data` method will clear the cache and extract the latest data from the UIS website."
   ],
   "metadata": {
    "collapsed": false
   }
  },
  {
   "cell_type": "code",
   "outputs": [
    {
     "name": "stderr",
     "output_type": "stream",
     "text": [
      "INFO: Data refreshed successfully.\n"
     ]
    }
   ],
   "source": [
    "sdg.refresh()"
   ],
   "metadata": {
    "collapsed": false,
    "ExecuteTime": {
     "end_time": "2024-04-08T09:43:47.904767Z",
     "start_time": "2024-04-08T09:43:47.901966Z"
    }
   },
   "execution_count": 18
  },
  {
   "cell_type": "markdown",
   "source": [
    "To clear all cached data, use the `clear_all_caches` method."
   ],
   "metadata": {
    "collapsed": false
   }
  },
  {
   "cell_type": "code",
   "outputs": [
    {
     "name": "stderr",
     "output_type": "stream",
     "text": [
      "INFO: All caches cleared.\n"
     ]
    }
   ],
   "source": [
    "uis.clear_all_caches()"
   ],
   "metadata": {
    "collapsed": false,
    "ExecuteTime": {
     "end_time": "2024-04-08T09:43:47.907666Z",
     "start_time": "2024-04-08T09:43:47.905406Z"
    }
   },
   "execution_count": 19
  },
  {
   "cell_type": "code",
   "outputs": [],
   "source": [],
   "metadata": {
    "collapsed": false,
    "ExecuteTime": {
     "end_time": "2024-04-08T09:43:47.909809Z",
     "start_time": "2024-04-08T09:43:47.908317Z"
    }
   },
   "execution_count": 19
  }
 ],
 "metadata": {
  "kernelspec": {
   "display_name": "Python 3",
   "language": "python",
   "name": "python3"
  },
  "language_info": {
   "codemirror_mode": {
    "name": "ipython",
    "version": 3
   },
   "file_extension": ".py",
   "mimetype": "text/x-python",
   "name": "python",
   "nbconvert_exporter": "python",
   "pygments_lexer": "ipython3",
   "version": "3.8.5"
  }
 },
 "nbformat": 4,
 "nbformat_minor": 4
}
